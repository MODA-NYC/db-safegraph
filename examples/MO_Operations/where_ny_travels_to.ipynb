{
 "cells": [
  {
   "cell_type": "code",
   "execution_count": 11,
   "metadata": {},
   "outputs": [],
   "source": [
    "import pandas as pd\r\n",
    "from pathlib import Path\r\n",
    "import json\r\n"
   ]
  },
  {
   "cell_type": "code",
   "execution_count": 8,
   "metadata": {},
   "outputs": [],
   "source": [
    "root = Path('****')\r\n",
    "df = pd.read_csv(root / '*****.csv', nrows = 1000)\r\n"
   ]
  },
  {
   "cell_type": "code",
   "execution_count": 18,
   "metadata": {},
   "outputs": [
    {
     "data": {
      "text/html": [
       "<div>\n",
       "<style scoped>\n",
       "    .dataframe tbody tr th:only-of-type {\n",
       "        vertical-align: middle;\n",
       "    }\n",
       "\n",
       "    .dataframe tbody tr th {\n",
       "        vertical-align: top;\n",
       "    }\n",
       "\n",
       "    .dataframe thead th {\n",
       "        text-align: right;\n",
       "    }\n",
       "</style>\n",
       "<table border=\"1\" class=\"dataframe\">\n",
       "  <thead>\n",
       "    <tr style=\"text-align: right;\">\n",
       "      <th></th>\n",
       "      <th>area</th>\n",
       "      <th>region</th>\n",
       "      <th>device_home_areas</th>\n",
       "    </tr>\n",
       "  </thead>\n",
       "  <tbody>\n",
       "    <tr>\n",
       "      <th>0</th>\n",
       "      <td>10210601014</td>\n",
       "      <td>AL</td>\n",
       "      <td>{\"010210604013\":232,\"010210601025\":231,\"010210...</td>\n",
       "    </tr>\n",
       "    <tr>\n",
       "      <th>1</th>\n",
       "      <td>10950303005</td>\n",
       "      <td>AL</td>\n",
       "      <td>{\"010950303005\":133,\"010950303004\":54,\"0109503...</td>\n",
       "    </tr>\n",
       "    <tr>\n",
       "      <th>2</th>\n",
       "      <td>11010055032</td>\n",
       "      <td>AL</td>\n",
       "      <td>{\"011010055033\":276,\"011010056071\":198,\"011010...</td>\n",
       "    </tr>\n",
       "    <tr>\n",
       "      <th>3</th>\n",
       "      <td>51190034021</td>\n",
       "      <td>AR</td>\n",
       "      <td>{\"051190034021\":155,\"051190034032\":60,\"0511900...</td>\n",
       "    </tr>\n",
       "    <tr>\n",
       "      <th>4</th>\n",
       "      <td>60250115004</td>\n",
       "      <td>CA</td>\n",
       "      <td>{\"060250115004\":50,\"060250110005\":34,\"06025011...</td>\n",
       "    </tr>\n",
       "  </tbody>\n",
       "</table>\n",
       "</div>"
      ],
      "text/plain": [
       "          area region                                  device_home_areas\n",
       "0  10210601014     AL  {\"010210604013\":232,\"010210601025\":231,\"010210...\n",
       "1  10950303005     AL  {\"010950303005\":133,\"010950303004\":54,\"0109503...\n",
       "2  11010055032     AL  {\"011010055033\":276,\"011010056071\":198,\"011010...\n",
       "3  51190034021     AR  {\"051190034021\":155,\"051190034032\":60,\"0511900...\n",
       "4  60250115004     CA  {\"060250115004\":50,\"060250110005\":34,\"06025011..."
      ]
     },
     "execution_count": 18,
     "metadata": {},
     "output_type": "execute_result"
    }
   ],
   "source": [
    "df.head()"
   ]
  },
  {
   "cell_type": "code",
   "execution_count": 27,
   "metadata": {},
   "outputs": [
    {
     "name": "stdout",
     "output_type": "stream",
     "text": [
      "            area region                                  device_home_areas  \\\n",
      "0    10210601014     AL  {\"010210604013\":232,\"010210601025\":231,\"010210...   \n",
      "9    60590320463     CA  {\"060590320463\":204,\"060590320462\":30,\"0605903...   \n",
      "15   60670071011     CA  {\"060670071011\":235,\"060610213222\":165,\"060610...   \n",
      "22  120070004002     FL  {\"120070004002\":147,\"120070004003\":91,\"1200700...   \n",
      "24  120570102095     FL  {\"120570102095\":99,\"120570102092\":44,\"12057010...   \n",
      "\n",
      "    visitors_from_nyc  \n",
      "0                 4.0  \n",
      "9                 4.0  \n",
      "15               16.0  \n",
      "22                4.0  \n",
      "24                4.0  \n"
     ]
    }
   ],
   "source": [
    "\r\n",
    "df = df[['area', 'region', 'device_home_areas']]\r\n",
    "df_copy = df.copy()\r\n",
    "df = df.copy()\r\n",
    "nyc_county_fips = ['36005', '36047', '36061', '36081', '36085']\r\n",
    "for index, row in df_copy.iterrows():\r\n",
    "    device_count = 0\r\n",
    "    my_json = json.loads(row['device_home_areas'])\r\n",
    "    for key in my_json.keys():\r\n",
    "        if (key[0:5] in nyc_county_fips):\r\n",
    "            device_count = device_count + int(my_json[key])\r\n",
    "    df.loc[df['area'] == row['area'], 'visitors_from_nyc'] = device_count\r\n",
    "df = df.loc[df['visitors_from_nyc'] > 0]\r\n",
    "print(df.head()) \r\n",
    "    \r\n",
    "\r\n",
    "    "
   ]
  },
  {
   "cell_type": "code",
   "execution_count": null,
   "metadata": {},
   "outputs": [],
   "source": []
  },
  {
   "cell_type": "code",
   "execution_count": 3,
   "metadata": {},
   "outputs": [
    {
     "name": "stdout",
     "output_type": "stream",
     "text": [
      "<bound method NDFrame.head of region\n",
      "AK         71.0\n",
      "AL       1612.0\n",
      "AR       1170.0\n",
      "AZ       3147.0\n",
      "CA      12696.0\n",
      "CO       2323.0\n",
      "CT      25535.0\n",
      "DC       3467.0\n",
      "DE       3479.0\n",
      "FL      76345.0\n",
      "GA       9804.0\n",
      "HI       1088.0\n",
      "IA        937.0\n",
      "ID        401.0\n",
      "IL       6288.0\n",
      "IN       3844.0\n",
      "KS        701.0\n",
      "KY       2019.0\n",
      "LA       3239.0\n",
      "MA      12912.0\n",
      "MD      11492.0\n",
      "ME       1090.0\n",
      "MI       2412.0\n",
      "MN        913.0\n",
      "MO       2233.0\n",
      "MS        797.0\n",
      "MT        389.0\n",
      "NC      11295.0\n",
      "ND        185.0\n",
      "NE        778.0\n",
      "NH       1336.0\n",
      "NJ     210950.0\n",
      "NM       1015.0\n",
      "NV       3032.0\n",
      "NY    4216343.0\n",
      "OH       8121.0\n",
      "OK       1281.0\n",
      "OR        748.0\n",
      "PA      48886.0\n",
      "PR        600.0\n",
      "RI       2464.0\n",
      "SC       7286.0\n",
      "SD        135.0\n",
      "TN       3916.0\n",
      "TX      10820.0\n",
      "UT       1631.0\n",
      "VA      14475.0\n",
      "VI         42.0\n",
      "VT       1259.0\n",
      "WA       1191.0\n",
      "WI       1438.0\n",
      "WV       1825.0\n",
      "WY        641.0\n",
      "Name: visitors_from_nyc, dtype: float64>\n"
     ]
    }
   ],
   "source": [
    "df = pd.read_csv('//CHGOLDFS/Operations/PM_Team/Active/Coronavirus Response/SafeGraph/neighborhood_patterns/patterns/2021/05/04/y=2021/m=4/visitors_from_nyc_to_cbg.csv')\r\n",
    "df2 = df.loc[df['visitors_from_nyc'] > 0.01]\r\n",
    "df3 = df2.groupby('region')['visitors_from_nyc'].sum()\r\n",
    "print(df3.head)\r\n"
   ]
  },
  {
   "cell_type": "code",
   "execution_count": 16,
   "metadata": {},
   "outputs": [],
   "source": [
    "df3.to_csv('//CHGOLDFS/Operations/PM_Team/Active/Coronavirus Response/SafeGraph/neighborhood_patterns/patterns/2021/05/04/y=2021/m=4/visitors_from_nyc_to_state2.csv')"
   ]
  },
  {
   "cell_type": "code",
   "execution_count": 12,
   "metadata": {},
   "outputs": [
    {
     "name": "stdout",
     "output_type": "stream",
     "text": [
      "<class 'pandas.core.frame.DataFrame'>\n",
      "RangeIndex: 220654 entries, 0 to 220653\n",
      "Data columns (total 5 columns):\n",
      " #   Column                Non-Null Count   Dtype  \n",
      "---  ------                --------------   -----  \n",
      " 0   Unnamed: 0            220654 non-null  int64  \n",
      " 1   area                  220654 non-null  int64  \n",
      " 2   device_daytime_areas  220654 non-null  object \n",
      " 3   region                220654 non-null  object \n",
      " 4   visitors_from_nyc     220654 non-null  float64\n",
      "dtypes: float64(1), int64(2), object(2)\n",
      "memory usage: 8.4+ MB\n"
     ]
    }
   ],
   "source": [
    "df.info()"
   ]
  }
 ],
 "metadata": {
  "interpreter": {
   "hash": "386f6e8744f2012b5bc2dac77b41dde6257cdf83c39e22f707cbc101e401543c"
  },
  "kernelspec": {
   "display_name": "Python 3.8.3 64-bit ('SafeGraph2_3_8': conda)",
   "name": "python3"
  },
  "language_info": {
   "name": "python",
   "version": ""
  },
  "orig_nbformat": 4
 },
 "nbformat": 4,
 "nbformat_minor": 2
}