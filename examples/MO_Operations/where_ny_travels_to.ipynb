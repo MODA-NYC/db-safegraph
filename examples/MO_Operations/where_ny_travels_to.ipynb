{
 "cells": [
  {
   "cell_type": "markdown",
   "metadata": {},
   "source": [
    "This is the second half of a calculation that was lost to a computer crash. This groups the census-block-level visits by New Yorker City residents to other states by state. Multiply by 18.7 to convert device count to population count.\r\n",
    "It is not accurate for raw population counts because it counts visitors to a block group. Aggregated at the state, that is one count per census block group visited. Note the NY State calculation would be 78 million people, which is not correct.\r\n",
    "What it does show is relative visits between states and how much individuals traveled around states, which is good for estimating pandemic contact."
   ]
  },
  {
   "cell_type": "code",
   "execution_count": 3,
   "metadata": {},
   "outputs": [],
   "source": [
    "import pandas as pd\r\n",
    "from pathlib import Path\r\n",
    "\r\n"
   ]
  },
  {
   "cell_type": "code",
   "execution_count": 4,
   "metadata": {},
   "outputs": [
    {
     "name": "stdout",
     "output_type": "stream",
     "text": [
      "<bound method NDFrame.head of region\n",
      "AK         71.0\n",
      "AL       1612.0\n",
      "AR       1170.0\n",
      "AZ       3147.0\n",
      "CA      12696.0\n",
      "CO       2323.0\n",
      "CT      25535.0\n",
      "DC       3467.0\n",
      "DE       3479.0\n",
      "FL      76345.0\n",
      "GA       9804.0\n",
      "HI       1088.0\n",
      "IA        937.0\n",
      "ID        401.0\n",
      "IL       6288.0\n",
      "IN       3844.0\n",
      "KS        701.0\n",
      "KY       2019.0\n",
      "LA       3239.0\n",
      "MA      12912.0\n",
      "MD      11492.0\n",
      "ME       1090.0\n",
      "MI       2412.0\n",
      "MN        913.0\n",
      "MO       2233.0\n",
      "MS        797.0\n",
      "MT        389.0\n",
      "NC      11295.0\n",
      "ND        185.0\n",
      "NE        778.0\n",
      "NH       1336.0\n",
      "NJ     210950.0\n",
      "NM       1015.0\n",
      "NV       3032.0\n",
      "NY    4216343.0\n",
      "OH       8121.0\n",
      "OK       1281.0\n",
      "OR        748.0\n",
      "PA      48886.0\n",
      "PR        600.0\n",
      "RI       2464.0\n",
      "SC       7286.0\n",
      "SD        135.0\n",
      "TN       3916.0\n",
      "TX      10820.0\n",
      "UT       1631.0\n",
      "VA      14475.0\n",
      "VI         42.0\n",
      "VT       1259.0\n",
      "WA       1191.0\n",
      "WI       1438.0\n",
      "WV       1825.0\n",
      "WY        641.0\n",
      "Name: visitors_from_nyc, dtype: float64>\n"
     ]
    }
   ],
   "source": [
    "df = pd.read_csv('//*****//visitors_from_nyc_to_cbg.csv')\r\n",
    "df2 = df.loc[df['visitors_from_nyc'] > 0.01]\r\n",
    "df3 = df2.groupby('region')['visitors_from_nyc'].sum()\r\n",
    "print(df3.head)\r\n"
   ]
  },
  {
   "cell_type": "code",
   "execution_count": 16,
   "metadata": {},
   "outputs": [],
   "source": [
    "df3.to_csv('//CHGOLDFS/Operations/PM_Team/Active/Coronavirus Response/SafeGraph/neighborhood_patterns/patterns/2021/05/04/y=2021/m=4/visitors_from_nyc_to_state2.csv')"
   ]
  },
  {
   "cell_type": "code",
   "execution_count": 5,
   "metadata": {},
   "outputs": [
    {
     "name": "stdout",
     "output_type": "stream",
     "text": [
      "<class 'pandas.core.frame.DataFrame'>\n",
      "RangeIndex: 220654 entries, 0 to 220653\n",
      "Data columns (total 5 columns):\n",
      " #   Column                Non-Null Count   Dtype  \n",
      "---  ------                --------------   -----  \n",
      " 0   Unnamed: 0            220654 non-null  int64  \n",
      " 1   area                  220654 non-null  int64  \n",
      " 2   device_daytime_areas  220654 non-null  object \n",
      " 3   region                220654 non-null  object \n",
      " 4   visitors_from_nyc     220654 non-null  float64\n",
      "dtypes: float64(1), int64(2), object(2)\n",
      "memory usage: 8.4+ MB\n"
     ]
    }
   ],
   "source": [
    "df.info()"
   ]
  }
 ],
 "metadata": {
  "interpreter": {
   "hash": "386f6e8744f2012b5bc2dac77b41dde6257cdf83c39e22f707cbc101e401543c"
  },
  "kernelspec": {
   "display_name": "Python 3.8.3 64-bit ('SafeGraph2_3_8': conda)",
   "name": "python3"
  },
  "language_info": {
   "codemirror_mode": {
    "name": "ipython",
    "version": 3
   },
   "file_extension": ".py",
   "mimetype": "text/x-python",
   "name": "python",
   "nbconvert_exporter": "python",
   "pygments_lexer": "ipython3",
   "version": "3.8.3"
  },
  "orig_nbformat": 4
 },
 "nbformat": 4,
 "nbformat_minor": 2
}