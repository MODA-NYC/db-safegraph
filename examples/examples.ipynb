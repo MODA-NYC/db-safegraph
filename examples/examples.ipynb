{
  "nbformat": 4,
  "nbformat_minor": 0,
  "metadata": {
    "colab": {
      "name": "safegraph-examples.ipynb",
      "provenance": []
    },
    "kernelspec": {
      "name": "python3",
      "display_name": "Python 3"
    }
  },
  "cells": [
    {
      "cell_type": "markdown",
      "metadata": {
        "id": "FJhLz0Uty4nD"
      },
      "source": [
        "# Recovery Data Partnership - SafeGraph user guide"
      ]
    },
    {
      "cell_type": "markdown",
      "metadata": {
        "id": "487eT9AhzC5l"
      },
      "source": [
        "### 1. Install Dependencies\n",
        "uncomment the line below and run it"
      ]
    },
    {
      "cell_type": "code",
      "execution_count": 7,
      "metadata": {},
      "outputs": [],
      "source": [
        "# ! pip3 install s3fs pandas"
      ]
    },
    {
      "cell_type": "code",
      "metadata": {
        "id": "O5QMvOwVc-sp"
      },
      "source": [
        "import pandas as pd\n",
        "import s3fs"
      ],
      "execution_count": 4,
      "outputs": []
    },
    {
      "source": [
        "We will be using `s3fs` to access our files in aws s3. Authentication is handled as below:"
      ],
      "cell_type": "markdown",
      "metadata": {}
    },
    {
      "cell_type": "code",
      "metadata": {
        "id": "7aPXGnutcTQI"
      },
      "source": [
        "s3 = s3fs.S3FileSystem(\n",
        "      key='<YOUR KEY HERE>',\n",
        "      secret='<YOUR SECRET HERE>', \n",
        "      client_kwargs={\n",
        "          'endpoint_url': 'https://s3.amazonaws.com', \n",
        "          'region_name':'us-east-1'\n",
        "      }\n",
        "    )"
      ],
      "execution_count": 5,
      "outputs": []
    },
    {
      "cell_type": "markdown",
      "metadata": {
        "id": "XEiBbXq8w6gW"
      },
      "source": [
        "### 2. Listing available files\n",
        "\n",
        "`s3.ls` will allow you to list directories given s3 path. For this project specifically, we will use `recovery-data-partnership/output` folder as the root folder for delivering all output files\n"
      ]
    },
    {
      "cell_type": "code",
      "metadata": {
        "id": "vIHPbmmBdMV4",
        "outputId": "eefcdcf1-c581-49b8-96b5-c83ce1713bfe",
        "colab": {
          "base_uri": "https://localhost:8080/",
          "height": 85
        }
      },
      "source": [
        "s3.ls('recovery-data-partnership/output/')"
      ],
      "execution_count": 7,
      "outputs": [
        {
          "output_type": "execute_result",
          "data": {
            "text/plain": [
              "['recovery-data-partnership/output/example',\n",
              " 'recovery-data-partnership/output/lookups',\n",
              " 'recovery-data-partnership/output/poi',\n",
              " 'recovery-data-partnership/output/social_distancing']"
            ]
          },
          "metadata": {
            "tags": []
          },
          "execution_count": 7
        }
      ]
    },
    {
      "source": [
        "Under the `output` folder, you will find data products by category. All social distancing related data products will be stored under `social_distancing`, and all point of interest and patterns datasets will be stored under `poi`. "
      ],
      "cell_type": "markdown",
      "metadata": {}
    },
    {
      "cell_type": "code",
      "metadata": {
        "id": "j03_r_C2w_sx",
        "outputId": "b336ecf1-c8a8-49d2-e1e8-88852edf1765",
        "colab": {
          "base_uri": "https://localhost:8080/",
          "height": 51
        }
      },
      "source": [
        "s3.ls('recovery-data-partnership/output/social_distancing/')"
      ],
      "execution_count": 8,
      "outputs": [
        {
          "output_type": "execute_result",
          "data": {
            "text/plain": [
              "['recovery-data-partnership/output/social_distancing/weekly_county_trips',\n",
              " 'recovery-data-partnership/output/social_distancing/weekly_state_trips']"
            ]
          },
          "metadata": {
            "tags": []
          },
          "execution_count": 8
        }
      ]
    },
    {
      "source": [
        "Because of the large size of the datasets, we paritioned each output table by year and quarter."
      ],
      "cell_type": "markdown",
      "metadata": {}
    },
    {
      "cell_type": "code",
      "metadata": {
        "id": "4qv3QYyLxCjW",
        "outputId": "070f1454-59d6-4a0e-bcdd-e4e3093db536",
        "colab": {
          "base_uri": "https://localhost:8080/",
          "height": 136
        }
      },
      "source": [
        "s3.ls('recovery-data-partnership/output/social_distancing/weekly_state_trips/')"
      ],
      "execution_count": 10,
      "outputs": [
        {
          "output_type": "execute_result",
          "data": {
            "text/plain": [
              "['recovery-data-partnership/output/social_distancing/weekly_state_trips/weekly_state_trips_2019Q1.csv.zip',\n",
              " 'recovery-data-partnership/output/social_distancing/weekly_state_trips/weekly_state_trips_2019Q2.csv.zip',\n",
              " 'recovery-data-partnership/output/social_distancing/weekly_state_trips/weekly_state_trips_2019Q3.csv.zip',\n",
              " 'recovery-data-partnership/output/social_distancing/weekly_state_trips/weekly_state_trips_2019Q4.csv.zip',\n",
              " 'recovery-data-partnership/output/social_distancing/weekly_state_trips/weekly_state_trips_2020Q1.csv.zip',\n",
              " 'recovery-data-partnership/output/social_distancing/weekly_state_trips/weekly_state_trips_2020Q2.csv.zip',\n",
              " 'recovery-data-partnership/output/social_distancing/weekly_state_trips/weekly_state_trips_2020Q3.csv.zip']"
            ]
          },
          "metadata": {
            "tags": []
          },
          "execution_count": 10
        }
      ]
    },
    {
      "cell_type": "markdown",
      "metadata": {
        "id": "MKSf2SjDxJLm"
      },
      "source": [
        "### 3. Reading files to dataframe and combine them together"
      ]
    },
    {
      "source": [
        "You can easily write a loop to loop through all the year quarter partitions of the datasets and use `pd.concat` to concatenate paritions into one big table."
      ],
      "cell_type": "markdown",
      "metadata": {}
    },
    {
      "cell_type": "code",
      "metadata": {
        "id": "Ehh5oUkPdam4"
      },
      "source": [
        "dfs = []\n",
        "for dataset in s3.ls('recovery-data-partnership/output/social_distancing/weekly_state_trips/'):\n",
        "  df = pd.read_csv(s3.open(dataset, mode='rb'), compression='zip')\n",
        "  dfs.append(df)\n",
        "  del df"
      ],
      "execution_count": 18,
      "outputs": []
    },
    {
      "cell_type": "code",
      "metadata": {
        "id": "l3CcRq47yA3U"
      },
      "source": [
        "weekly_state_trips = pd.concat(dfs)"
      ],
      "execution_count": 19,
      "outputs": []
    },
    {
      "source": [
        "> Note that because we are paritioning by quarter, that means the last week of a quarter can cross quarters and show up in two paritions. To avoid confusion, we recommend doing a group by by week and the geographic boundry."
      ],
      "cell_type": "markdown",
      "metadata": {}
    },
    {
      "cell_type": "code",
      "metadata": {
        "id": "FvhxFAiyyD4u"
      },
      "source": [
        "weekly_state_trips = weekly_state_trips.groupby(['year_week',\t'state']).sum()"
      ],
      "execution_count": 22,
      "outputs": []
    },
    {
      "cell_type": "code",
      "metadata": {
        "id": "JrivI3liyXEq",
        "outputId": "958b1dbc-503e-4e51-a49d-5ea0e3dce833",
        "colab": {
          "base_uri": "https://localhost:8080/",
          "height": 450
        }
      },
      "source": [
        "weekly_state_trips"
      ],
      "execution_count": 26,
      "outputs": [
        {
          "output_type": "execute_result",
          "data": {
            "text/html": [
              "<div>\n",
              "<style scoped>\n",
              "    .dataframe tbody tr th:only-of-type {\n",
              "        vertical-align: middle;\n",
              "    }\n",
              "\n",
              "    .dataframe tbody tr th {\n",
              "        vertical-align: top;\n",
              "    }\n",
              "\n",
              "    .dataframe thead th {\n",
              "        text-align: right;\n",
              "    }\n",
              "</style>\n",
              "<table border=\"1\" class=\"dataframe\">\n",
              "  <thead>\n",
              "    <tr style=\"text-align: right;\">\n",
              "      <th></th>\n",
              "      <th></th>\n",
              "      <th>to_nyc</th>\n",
              "      <th>from_nyc</th>\n",
              "      <th>net_nyc</th>\n",
              "    </tr>\n",
              "    <tr>\n",
              "      <th>year_week</th>\n",
              "      <th>state</th>\n",
              "      <th></th>\n",
              "      <th></th>\n",
              "      <th></th>\n",
              "    </tr>\n",
              "  </thead>\n",
              "  <tbody>\n",
              "    <tr>\n",
              "      <th rowspan=\"5\" valign=\"top\">2019-01</th>\n",
              "      <th>1</th>\n",
              "      <td>48691</td>\n",
              "      <td>21817</td>\n",
              "      <td>26874</td>\n",
              "    </tr>\n",
              "    <tr>\n",
              "      <th>2</th>\n",
              "      <td>2288</td>\n",
              "      <td>2044</td>\n",
              "      <td>244</td>\n",
              "    </tr>\n",
              "    <tr>\n",
              "      <th>4</th>\n",
              "      <td>42800</td>\n",
              "      <td>56635</td>\n",
              "      <td>-13835</td>\n",
              "    </tr>\n",
              "    <tr>\n",
              "      <th>5</th>\n",
              "      <td>20910</td>\n",
              "      <td>14140</td>\n",
              "      <td>6770</td>\n",
              "    </tr>\n",
              "    <tr>\n",
              "      <th>6</th>\n",
              "      <td>364721</td>\n",
              "      <td>507026</td>\n",
              "      <td>-142305</td>\n",
              "    </tr>\n",
              "    <tr>\n",
              "      <th>...</th>\n",
              "      <th>...</th>\n",
              "      <td>...</td>\n",
              "      <td>...</td>\n",
              "      <td>...</td>\n",
              "    </tr>\n",
              "    <tr>\n",
              "      <th rowspan=\"5\" valign=\"top\">2020-40</th>\n",
              "      <th>54</th>\n",
              "      <td>3038</td>\n",
              "      <td>8467</td>\n",
              "      <td>-5429</td>\n",
              "    </tr>\n",
              "    <tr>\n",
              "      <th>55</th>\n",
              "      <td>2086</td>\n",
              "      <td>7714</td>\n",
              "      <td>-5628</td>\n",
              "    </tr>\n",
              "    <tr>\n",
              "      <th>56</th>\n",
              "      <td>434</td>\n",
              "      <td>3882</td>\n",
              "      <td>-3448</td>\n",
              "    </tr>\n",
              "    <tr>\n",
              "      <th>72</th>\n",
              "      <td>2828</td>\n",
              "      <td>15001</td>\n",
              "      <td>-12173</td>\n",
              "    </tr>\n",
              "    <tr>\n",
              "      <th>78</th>\n",
              "      <td>224</td>\n",
              "      <td>1259</td>\n",
              "      <td>-1035</td>\n",
              "    </tr>\n",
              "  </tbody>\n",
              "</table>\n",
              "<p>4912 rows × 3 columns</p>\n",
              "</div>"
            ],
            "text/plain": [
              "                 to_nyc  from_nyc  net_nyc\n",
              "year_week state                           \n",
              "2019-01   1       48691     21817    26874\n",
              "          2        2288      2044      244\n",
              "          4       42800     56635   -13835\n",
              "          5       20910     14140     6770\n",
              "          6      364721    507026  -142305\n",
              "...                 ...       ...      ...\n",
              "2020-40   54       3038      8467    -5429\n",
              "          55       2086      7714    -5628\n",
              "          56        434      3882    -3448\n",
              "          72       2828     15001   -12173\n",
              "          78        224      1259    -1035\n",
              "\n",
              "[4912 rows x 3 columns]"
            ]
          },
          "metadata": {
            "tags": []
          },
          "execution_count": 26
        }
      ]
    },
    {
      "cell_type": "markdown",
      "metadata": {
        "id": "doZRUoLYyde2"
      },
      "source": [
        "### 4. We also prepared look up tables"
      ]
    },
    {
      "cell_type": "code",
      "metadata": {
        "id": "m7CByncfylpm",
        "outputId": "ec871683-de5c-4c36-d251-d0c9ae859169",
        "colab": {
          "base_uri": "https://localhost:8080/",
          "height": 119
        }
      },
      "source": [
        "s3.ls('recovery-data-partnership/output/lookups/')"
      ],
      "execution_count": 24,
      "outputs": [
        {
          "output_type": "execute_result",
          "data": {
            "text/plain": [
              "['recovery-data-partnership/output/lookups/',\n",
              " 'recovery-data-partnership/output/lookups/fips_to_county.csv',\n",
              " 'recovery-data-partnership/output/lookups/fips_to_state.csv',\n",
              " 'recovery-data-partnership/output/lookups/naics_sector.csv',\n",
              " 'recovery-data-partnership/output/lookups/naics_subsector.csv',\n",
              " 'recovery-data-partnership/output/lookups/nta_to_boro_county.csv']"
            ]
          },
          "metadata": {
            "tags": []
          },
          "execution_count": 24
        }
      ]
    }
  ]
}