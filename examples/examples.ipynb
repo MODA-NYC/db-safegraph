{
  "nbformat": 4,
  "nbformat_minor": 0,
  "metadata": {
    "colab": {
      "name": "safegraph-examples.ipynb",
      "provenance": []
    },
    "kernelspec": {
      "name": "python3",
      "display_name": "Python 3"
    }
  },
  "cells": [
    {
      "cell_type": "markdown",
      "metadata": {
        "id": "FJhLz0Uty4nD"
      },
      "source": [
        "# Recovery Data Partnership - SafeGraph user guide"
      ]
    },
    {
      "cell_type": "markdown",
      "metadata": {
        "id": "487eT9AhzC5l"
      },
      "source": [
        "### 1. Install Dependencies\n",
        "uncomment the line below and run it"
      ]
    },
    {
      "cell_type": "code",
      "execution_count": 7,
      "metadata": {},
      "outputs": [],
      "source": [
        "# ! pip3 install s3fs pandas"
      ]
    },
    {
      "cell_type": "code",
      "execution_count": 1,
      "metadata": {},
      "outputs": [],
      "source": [
        "import pandas as pd\n",
        "import s3fs"
      ]
    },
    {
      "source": [
        "We will be using `s3fs` to access our files in aws s3. Authentication is handled as below:"
      ],
      "cell_type": "markdown",
      "metadata": {}
    },
    {
      "cell_type": "code",
      "metadata": {
        "id": "7aPXGnutcTQI"
      },
      "source": [
        "s3 = s3fs.S3FileSystem(\n",
        "      key='<YOUR KEY HERE>',\n",
        "      secret='<YOUR SECRET HERE>', \n",
        "      client_kwargs={\n",
        "          'endpoint_url': 'https://s3.amazonaws.com', \n",
        "          'region_name':'us-east-1'\n",
        "      }\n",
        "    )"
      ],
      "execution_count": 5,
      "outputs": []
    },
    {
      "cell_type": "markdown",
      "metadata": {
        "id": "XEiBbXq8w6gW"
      },
      "source": [
        "### 2. Listing available files\n",
        "\n",
        "`s3.ls` will allow you to list directories given s3 path. For this project specifically, we will use `recovery-data-partnership/output` folder as the root folder for delivering all output files\n"
      ]
    },
    {
      "cell_type": "code",
      "execution_count": 3,
      "metadata": {},
      "outputs": [
        {
          "output_type": "execute_result",
          "data": {
            "text/plain": "['recovery-data-partnership/output/example',\n 'recovery-data-partnership/output/lookups',\n 'recovery-data-partnership/output/poi',\n 'recovery-data-partnership/output/social_distancing']"
          },
          "metadata": {},
          "execution_count": 3
        }
      ],
      "source": [
        "s3.ls('recovery-data-partnership/output/')"
      ]
    },
    {
      "source": [
        "Under the `output` folder, you will find data products by category. All social distancing related data products will be stored under `social_distancing`, and all point of interest and patterns datasets will be stored under `poi`. "
      ],
      "cell_type": "markdown",
      "metadata": {}
    },
    {
      "cell_type": "code",
      "execution_count": 4,
      "metadata": {},
      "outputs": [
        {
          "output_type": "execute_result",
          "data": {
            "text/plain": "['recovery-data-partnership/output/social_distancing/device_counts_by_county.csv.zip',\n 'recovery-data-partnership/output/social_distancing/device_counts_by_state.csv.zip',\n 'recovery-data-partnership/output/social_distancing/weekly_county_trips',\n 'recovery-data-partnership/output/social_distancing/weekly_state_trips']"
          },
          "metadata": {},
          "execution_count": 4
        }
      ],
      "source": [
        "s3.ls('recovery-data-partnership/output/social_distancing/')"
      ]
    },
    {
      "source": [
        "Because of the large size of the datasets, we paritioned each output table by year and quarter."
      ],
      "cell_type": "markdown",
      "metadata": {}
    },
    {
      "cell_type": "code",
      "execution_count": 5,
      "metadata": {},
      "outputs": [
        {
          "output_type": "execute_result",
          "data": {
            "text/plain": "['recovery-data-partnership/output/social_distancing/weekly_state_trips/weekly_state_trips_2019Q1.csv.zip',\n 'recovery-data-partnership/output/social_distancing/weekly_state_trips/weekly_state_trips_2019Q2.csv.zip',\n 'recovery-data-partnership/output/social_distancing/weekly_state_trips/weekly_state_trips_2019Q3.csv.zip',\n 'recovery-data-partnership/output/social_distancing/weekly_state_trips/weekly_state_trips_2019Q4.csv.zip',\n 'recovery-data-partnership/output/social_distancing/weekly_state_trips/weekly_state_trips_2020Q1.csv.zip',\n 'recovery-data-partnership/output/social_distancing/weekly_state_trips/weekly_state_trips_2020Q2.csv.zip',\n 'recovery-data-partnership/output/social_distancing/weekly_state_trips/weekly_state_trips_2020Q3.csv.zip',\n 'recovery-data-partnership/output/social_distancing/weekly_state_trips/weekly_state_trips_2020Q4.csv.zip']"
          },
          "metadata": {},
          "execution_count": 5
        }
      ],
      "source": [
        "s3.ls('recovery-data-partnership/output/social_distancing/weekly_state_trips/')"
      ]
    },
    {
      "cell_type": "markdown",
      "metadata": {
        "id": "MKSf2SjDxJLm"
      },
      "source": [
        "### 3. Reading files to dataframe and combine them together"
      ]
    },
    {
      "source": [
        "You can easily write a loop to loop through all the year quarter partitions of the datasets and use `pd.concat` to concatenate paritions into one big table."
      ],
      "cell_type": "markdown",
      "metadata": {}
    },
    {
      "cell_type": "code",
      "execution_count": 6,
      "metadata": {},
      "outputs": [],
      "source": [
        "dfs = []\n",
        "for dataset in s3.ls('recovery-data-partnership/output/social_distancing/weekly_state_trips/'):\n",
        "  df = pd.read_csv(s3.open(dataset, mode='rb'), compression='zip')\n",
        "  dfs.append(df)\n",
        "  del df"
      ]
    },
    {
      "cell_type": "code",
      "execution_count": 7,
      "metadata": {},
      "outputs": [],
      "source": [
        "weekly_state_trips = pd.concat(dfs)"
      ]
    },
    {
      "source": [
        "> Note that because we are paritioning by quarter, that means the last week of a quarter can cross quarters and show up in two paritions. To avoid confusion, we recommend doing a group by by week and the geographic boundry."
      ],
      "cell_type": "markdown",
      "metadata": {}
    },
    {
      "cell_type": "code",
      "execution_count": 11,
      "metadata": {},
      "outputs": [],
      "source": [
        "weekly_state_trips = weekly_state_trips.groupby(['year_week', 'origin', 'destination']).sum().reset_index()"
      ]
    },
    {
      "cell_type": "code",
      "execution_count": 12,
      "metadata": {},
      "outputs": [
        {
          "output_type": "execute_result",
          "data": {
            "text/plain": "      year_week origin destination  weekday_trips  weekend_trips  all_trips\n0       2019-01     01         NYC         3167.0          493.0       3660\n1       2019-01     02         NYC          160.0           13.0        173\n2       2019-01     04         NYC         2852.0          362.0       3214\n3       2019-01     05         NYC         1308.0          274.0       1582\n4       2019-01     06         NYC        24119.0         3416.0      27535\n...         ...    ...         ...            ...            ...        ...\n10166   2020-42    NYC          55          321.0            0.0        321\n10167   2020-42    NYC          56           97.0            0.0         97\n10168   2020-42    NYC          72          429.0            0.0        429\n10169   2020-42    NYC          78           12.0            0.0         12\n10170   2020-42    NYC         NYC      2220207.0            0.0    2220207\n\n[10171 rows x 6 columns]",
            "text/html": "<div>\n<style scoped>\n    .dataframe tbody tr th:only-of-type {\n        vertical-align: middle;\n    }\n\n    .dataframe tbody tr th {\n        vertical-align: top;\n    }\n\n    .dataframe thead th {\n        text-align: right;\n    }\n</style>\n<table border=\"1\" class=\"dataframe\">\n  <thead>\n    <tr style=\"text-align: right;\">\n      <th></th>\n      <th>year_week</th>\n      <th>origin</th>\n      <th>destination</th>\n      <th>weekday_trips</th>\n      <th>weekend_trips</th>\n      <th>all_trips</th>\n    </tr>\n  </thead>\n  <tbody>\n    <tr>\n      <th>0</th>\n      <td>2019-01</td>\n      <td>01</td>\n      <td>NYC</td>\n      <td>3167.0</td>\n      <td>493.0</td>\n      <td>3660</td>\n    </tr>\n    <tr>\n      <th>1</th>\n      <td>2019-01</td>\n      <td>02</td>\n      <td>NYC</td>\n      <td>160.0</td>\n      <td>13.0</td>\n      <td>173</td>\n    </tr>\n    <tr>\n      <th>2</th>\n      <td>2019-01</td>\n      <td>04</td>\n      <td>NYC</td>\n      <td>2852.0</td>\n      <td>362.0</td>\n      <td>3214</td>\n    </tr>\n    <tr>\n      <th>3</th>\n      <td>2019-01</td>\n      <td>05</td>\n      <td>NYC</td>\n      <td>1308.0</td>\n      <td>274.0</td>\n      <td>1582</td>\n    </tr>\n    <tr>\n      <th>4</th>\n      <td>2019-01</td>\n      <td>06</td>\n      <td>NYC</td>\n      <td>24119.0</td>\n      <td>3416.0</td>\n      <td>27535</td>\n    </tr>\n    <tr>\n      <th>...</th>\n      <td>...</td>\n      <td>...</td>\n      <td>...</td>\n      <td>...</td>\n      <td>...</td>\n      <td>...</td>\n    </tr>\n    <tr>\n      <th>10166</th>\n      <td>2020-42</td>\n      <td>NYC</td>\n      <td>55</td>\n      <td>321.0</td>\n      <td>0.0</td>\n      <td>321</td>\n    </tr>\n    <tr>\n      <th>10167</th>\n      <td>2020-42</td>\n      <td>NYC</td>\n      <td>56</td>\n      <td>97.0</td>\n      <td>0.0</td>\n      <td>97</td>\n    </tr>\n    <tr>\n      <th>10168</th>\n      <td>2020-42</td>\n      <td>NYC</td>\n      <td>72</td>\n      <td>429.0</td>\n      <td>0.0</td>\n      <td>429</td>\n    </tr>\n    <tr>\n      <th>10169</th>\n      <td>2020-42</td>\n      <td>NYC</td>\n      <td>78</td>\n      <td>12.0</td>\n      <td>0.0</td>\n      <td>12</td>\n    </tr>\n    <tr>\n      <th>10170</th>\n      <td>2020-42</td>\n      <td>NYC</td>\n      <td>NYC</td>\n      <td>2220207.0</td>\n      <td>0.0</td>\n      <td>2220207</td>\n    </tr>\n  </tbody>\n</table>\n<p>10171 rows × 6 columns</p>\n</div>"
          },
          "metadata": {},
          "execution_count": 12
        }
      ],
      "source": [
        "weekly_state_trips"
      ]
    },
    {
      "cell_type": "markdown",
      "metadata": {
        "id": "doZRUoLYyde2"
      },
      "source": [
        "### 4. We also prepared look up tables"
      ]
    },
    {
      "cell_type": "code",
      "execution_count": 13,
      "metadata": {},
      "outputs": [
        {
          "output_type": "execute_result",
          "data": {
            "text/plain": "['recovery-data-partnership/output/lookups/',\n 'recovery-data-partnership/output/lookups/fips_to_county.csv',\n 'recovery-data-partnership/output/lookups/fips_to_state.csv',\n 'recovery-data-partnership/output/lookups/naics_sector.csv',\n 'recovery-data-partnership/output/lookups/naics_subsector.csv',\n 'recovery-data-partnership/output/lookups/nta_to_boro_county.csv']"
          },
          "metadata": {},
          "execution_count": 13
        }
      ],
      "source": [
        "s3.ls('recovery-data-partnership/output/lookups/')"
      ]
    },
    {
      "source": [
        "The `state_lookup` table will give you the state names"
      ],
      "cell_type": "markdown",
      "metadata": {}
    },
    {
      "cell_type": "code",
      "execution_count": 20,
      "metadata": {},
      "outputs": [
        {
          "output_type": "execute_result",
          "data": {
            "text/plain": "  fips       state\n0   01     Alabama\n1   02      Alaska\n2   04     Arizona\n3   05    Arkansas\n4   06  California",
            "text/html": "<div>\n<style scoped>\n    .dataframe tbody tr th:only-of-type {\n        vertical-align: middle;\n    }\n\n    .dataframe tbody tr th {\n        vertical-align: top;\n    }\n\n    .dataframe thead th {\n        text-align: right;\n    }\n</style>\n<table border=\"1\" class=\"dataframe\">\n  <thead>\n    <tr style=\"text-align: right;\">\n      <th></th>\n      <th>fips</th>\n      <th>state</th>\n    </tr>\n  </thead>\n  <tbody>\n    <tr>\n      <th>0</th>\n      <td>01</td>\n      <td>Alabama</td>\n    </tr>\n    <tr>\n      <th>1</th>\n      <td>02</td>\n      <td>Alaska</td>\n    </tr>\n    <tr>\n      <th>2</th>\n      <td>04</td>\n      <td>Arizona</td>\n    </tr>\n    <tr>\n      <th>3</th>\n      <td>05</td>\n      <td>Arkansas</td>\n    </tr>\n    <tr>\n      <th>4</th>\n      <td>06</td>\n      <td>California</td>\n    </tr>\n  </tbody>\n</table>\n</div>"
          },
          "metadata": {},
          "execution_count": 20
        }
      ],
      "source": [
        "state_lookup = pd.read_csv(s3.open('recovery-data-partnership/output/lookups/fips_to_state.csv', mode='rb'), dtype=str)\n",
        "state_lookup.head()"
      ]
    },
    {
      "cell_type": "code",
      "execution_count": 21,
      "metadata": {},
      "outputs": [
        {
          "output_type": "execute_result",
          "data": {
            "text/plain": "  year_week origin destination  weekday_trips  weekend_trips  all_trips fips  \\\n0   2019-01     01         NYC         3167.0          493.0       3660   01   \n1   2019-01     02         NYC          160.0           13.0        173   02   \n2   2019-01     04         NYC         2852.0          362.0       3214   04   \n3   2019-01     05         NYC         1308.0          274.0       1582   05   \n4   2019-01     06         NYC        24119.0         3416.0      27535   06   \n\n        state  \n0     Alabama  \n1      Alaska  \n2     Arizona  \n3    Arkansas  \n4  California  ",
            "text/html": "<div>\n<style scoped>\n    .dataframe tbody tr th:only-of-type {\n        vertical-align: middle;\n    }\n\n    .dataframe tbody tr th {\n        vertical-align: top;\n    }\n\n    .dataframe thead th {\n        text-align: right;\n    }\n</style>\n<table border=\"1\" class=\"dataframe\">\n  <thead>\n    <tr style=\"text-align: right;\">\n      <th></th>\n      <th>year_week</th>\n      <th>origin</th>\n      <th>destination</th>\n      <th>weekday_trips</th>\n      <th>weekend_trips</th>\n      <th>all_trips</th>\n      <th>fips</th>\n      <th>state</th>\n    </tr>\n  </thead>\n  <tbody>\n    <tr>\n      <th>0</th>\n      <td>2019-01</td>\n      <td>01</td>\n      <td>NYC</td>\n      <td>3167.0</td>\n      <td>493.0</td>\n      <td>3660</td>\n      <td>01</td>\n      <td>Alabama</td>\n    </tr>\n    <tr>\n      <th>1</th>\n      <td>2019-01</td>\n      <td>02</td>\n      <td>NYC</td>\n      <td>160.0</td>\n      <td>13.0</td>\n      <td>173</td>\n      <td>02</td>\n      <td>Alaska</td>\n    </tr>\n    <tr>\n      <th>2</th>\n      <td>2019-01</td>\n      <td>04</td>\n      <td>NYC</td>\n      <td>2852.0</td>\n      <td>362.0</td>\n      <td>3214</td>\n      <td>04</td>\n      <td>Arizona</td>\n    </tr>\n    <tr>\n      <th>3</th>\n      <td>2019-01</td>\n      <td>05</td>\n      <td>NYC</td>\n      <td>1308.0</td>\n      <td>274.0</td>\n      <td>1582</td>\n      <td>05</td>\n      <td>Arkansas</td>\n    </tr>\n    <tr>\n      <th>4</th>\n      <td>2019-01</td>\n      <td>06</td>\n      <td>NYC</td>\n      <td>24119.0</td>\n      <td>3416.0</td>\n      <td>27535</td>\n      <td>06</td>\n      <td>California</td>\n    </tr>\n  </tbody>\n</table>\n</div>"
          },
          "metadata": {},
          "execution_count": 21
        }
      ],
      "source": [
        "named_weekly_state_trips = pd.merge(weekly_state_trips, state_lookup, how='left', left_on='origin', right_on='fips')\n",
        "named_weekly_state_trips.head()"
      ]
    },
    {
      "source": [
        "The device count table for states contains the number of devices that's \"home\" is in each state. Because the state trips table concerns movement in and out of NYC, the device counts for NY do not include the 5 boroughs. These counts are instead stored as state = 'NYC'. Also note that the devices counts are only associated with the origin location. \n"
      ],
      "cell_type": "markdown",
      "metadata": {}
    },
    {
      "cell_type": "code",
      "execution_count": 23,
      "metadata": {},
      "outputs": [
        {
          "output_type": "execute_result",
          "data": {
            "text/plain": "  year_week state  device_count  completely_home_device_count\n0   2019-15   NYC        511057                        180419\n1   2019-44   NYC        398584                        110357\n2   2020-04   NYC        336748                         84469\n3   2019-23   NYC        514242                        158430\n4   2020-01    10         55314                         19195",
            "text/html": "<div>\n<style scoped>\n    .dataframe tbody tr th:only-of-type {\n        vertical-align: middle;\n    }\n\n    .dataframe tbody tr th {\n        vertical-align: top;\n    }\n\n    .dataframe thead th {\n        text-align: right;\n    }\n</style>\n<table border=\"1\" class=\"dataframe\">\n  <thead>\n    <tr style=\"text-align: right;\">\n      <th></th>\n      <th>year_week</th>\n      <th>state</th>\n      <th>device_count</th>\n      <th>completely_home_device_count</th>\n    </tr>\n  </thead>\n  <tbody>\n    <tr>\n      <th>0</th>\n      <td>2019-15</td>\n      <td>NYC</td>\n      <td>511057</td>\n      <td>180419</td>\n    </tr>\n    <tr>\n      <th>1</th>\n      <td>2019-44</td>\n      <td>NYC</td>\n      <td>398584</td>\n      <td>110357</td>\n    </tr>\n    <tr>\n      <th>2</th>\n      <td>2020-04</td>\n      <td>NYC</td>\n      <td>336748</td>\n      <td>84469</td>\n    </tr>\n    <tr>\n      <th>3</th>\n      <td>2019-23</td>\n      <td>NYC</td>\n      <td>514242</td>\n      <td>158430</td>\n    </tr>\n    <tr>\n      <th>4</th>\n      <td>2020-01</td>\n      <td>10</td>\n      <td>55314</td>\n      <td>19195</td>\n    </tr>\n  </tbody>\n</table>\n</div>"
          },
          "metadata": {},
          "execution_count": 23
        }
      ],
      "source": [
        "state_devices = pd.read_csv(s3.open('recovery-data-partnership/output/social_distancing/device_counts_by_state.csv.zip', mode='rb'),  compression='zip')\n",
        "state_devices.head()"
      ]
    },
    {
      "cell_type": "code",
      "execution_count": 25,
      "metadata": {},
      "outputs": [],
      "source": [
        "weekly_state_trips_with_devices = pd.merge(\n",
        "    weekly_state_trips, state_devices, \n",
        "    how='left', \n",
        "    left_on=['origin', 'year_week'],\n",
        "    right_on=['state', 'year_week'])"
      ]
    },
    {
      "cell_type": "code",
      "execution_count": 26,
      "metadata": {},
      "outputs": [
        {
          "output_type": "execute_result",
          "data": {
            "text/plain": "  year_week origin destination  weekday_trips  weekend_trips  all_trips state  \\\n0   2019-01     01         NYC         3167.0          493.0       3660    01   \n1   2019-01     01         NYC         3167.0          493.0       3660    01   \n2   2019-01     01         NYC         3167.0          493.0       3660    01   \n3   2019-01     01         NYC         3167.0          493.0       3660    01   \n4   2019-01     01         NYC         3167.0          493.0       3660    01   \n\n   device_count  completely_home_device_count  \n0            57                            24  \n1        412283                        119087  \n2            59                            15  \n3            57                            27  \n4        410832                        138154  ",
            "text/html": "<div>\n<style scoped>\n    .dataframe tbody tr th:only-of-type {\n        vertical-align: middle;\n    }\n\n    .dataframe tbody tr th {\n        vertical-align: top;\n    }\n\n    .dataframe thead th {\n        text-align: right;\n    }\n</style>\n<table border=\"1\" class=\"dataframe\">\n  <thead>\n    <tr style=\"text-align: right;\">\n      <th></th>\n      <th>year_week</th>\n      <th>origin</th>\n      <th>destination</th>\n      <th>weekday_trips</th>\n      <th>weekend_trips</th>\n      <th>all_trips</th>\n      <th>state</th>\n      <th>device_count</th>\n      <th>completely_home_device_count</th>\n    </tr>\n  </thead>\n  <tbody>\n    <tr>\n      <th>0</th>\n      <td>2019-01</td>\n      <td>01</td>\n      <td>NYC</td>\n      <td>3167.0</td>\n      <td>493.0</td>\n      <td>3660</td>\n      <td>01</td>\n      <td>57</td>\n      <td>24</td>\n    </tr>\n    <tr>\n      <th>1</th>\n      <td>2019-01</td>\n      <td>01</td>\n      <td>NYC</td>\n      <td>3167.0</td>\n      <td>493.0</td>\n      <td>3660</td>\n      <td>01</td>\n      <td>412283</td>\n      <td>119087</td>\n    </tr>\n    <tr>\n      <th>2</th>\n      <td>2019-01</td>\n      <td>01</td>\n      <td>NYC</td>\n      <td>3167.0</td>\n      <td>493.0</td>\n      <td>3660</td>\n      <td>01</td>\n      <td>59</td>\n      <td>15</td>\n    </tr>\n    <tr>\n      <th>3</th>\n      <td>2019-01</td>\n      <td>01</td>\n      <td>NYC</td>\n      <td>3167.0</td>\n      <td>493.0</td>\n      <td>3660</td>\n      <td>01</td>\n      <td>57</td>\n      <td>27</td>\n    </tr>\n    <tr>\n      <th>4</th>\n      <td>2019-01</td>\n      <td>01</td>\n      <td>NYC</td>\n      <td>3167.0</td>\n      <td>493.0</td>\n      <td>3660</td>\n      <td>01</td>\n      <td>410832</td>\n      <td>138154</td>\n    </tr>\n  </tbody>\n</table>\n</div>"
          },
          "metadata": {},
          "execution_count": 26
        }
      ],
      "source": [
        "weekly_state_trips_with_devices.head()"
      ]
    }
  ]
}