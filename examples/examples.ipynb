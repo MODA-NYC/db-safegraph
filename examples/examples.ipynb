{
  "nbformat": 4,
  "nbformat_minor": 0,
  "metadata": {
    "colab": {
      "name": "Copy of safegraph-examples.ipynb",
      "provenance": []
    },
    "kernelspec": {
      "name": "python3",
      "display_name": "Python 3"
    }
  },
  "cells": [
    {
      "cell_type": "markdown",
      "metadata": {
        "id": "FJhLz0Uty4nD"
      },
      "source": [
        "# Recovery Data Partnership - SafeGraph user guide"
      ]
    },
    {
      "cell_type": "markdown",
      "metadata": {
        "id": "487eT9AhzC5l"
      },
      "source": [
        "### 1. Install Dependencies\n",
        "uncomment the line below and run it"
      ]
    },
    {
      "cell_type": "code",
      "metadata": {
        "id": "Yn06LvpF9f0z"
      },
      "source": [
        " # ! pip3 install s3fs pandas"
      ],
      "execution_count": null,
      "outputs": []
    },
    {
      "cell_type": "code",
      "metadata": {
        "id": "YNwG0HWE9f00"
      },
      "source": [
        "import pandas as pd\n",
        "import s3fs"
      ],
      "execution_count": null,
      "outputs": []
    },
    {
      "cell_type": "markdown",
      "metadata": {
        "id": "DxbQNF-09f00"
      },
      "source": [
        "We will be using `s3fs` to access our files in aws s3. Authentication is handled as below:"
      ]
    },
    {
      "cell_type": "code",
      "metadata": {
        "id": "P0IIcvka9f00"
      },
      "source": [
        "s3 = s3fs.S3FileSystem(\n",
        "      key='<YOUR KEY HERE>',\n",
        "      secret='<YOUR SECRET HERE>', \n",
        "      client_kwargs={\n",
        "          'endpoint_url': 'https://s3.amazonaws.com', \n",
        "          'region_name':'us-east-1'\n",
        "      }\n",
        "    )"
      ],
      "execution_count": null,
      "outputs": []
    },
    {
      "cell_type": "markdown",
      "metadata": {
        "id": "XEiBbXq8w6gW"
      },
      "source": [
        "### 2. Listing available files\n",
        "\n",
        "`s3.ls` will allow you to list directories given s3 path. For this project specifically, we will use `recovery-data-partnership/output` folder as the root folder for delivering all output files\n"
      ]
    },
    {
      "cell_type": "code",
      "metadata": {
        "id": "lkD1KBfm9f01",
        "colab": {
          "base_uri": "https://localhost:8080/"
        },
        "outputId": "67789287-a2c7-4a09-9c83-58e2bbe0ab08"
      },
      "source": [
        "s3.ls('recovery-data-partnership/output/production/')"
      ],
      "execution_count": null,
      "outputs": [
        {
          "output_type": "execute_result",
          "data": {
            "text/plain": [
              "['recovery-data-partnership/output/production/',\n",
              " 'recovery-data-partnership/output/production/home_panel_summary',\n",
              " 'recovery-data-partnership/output/production/lookups',\n",
              " 'recovery-data-partnership/output/production/social_distancing']"
            ]
          },
          "metadata": {
            "tags": []
          },
          "execution_count": 4
        }
      ]
    },
    {
      "cell_type": "markdown",
      "metadata": {
        "id": "--VHFJlV9f02"
      },
      "source": [
        "Under the `output/production/` folder, you will find data products by category. All social distancing related data products will be stored under `social_distancing`, and all point of interest and patterns datasets will be stored under `poi`. "
      ]
    },
    {
      "cell_type": "code",
      "metadata": {
        "id": "fUqoinvy9f02",
        "colab": {
          "base_uri": "https://localhost:8080/"
        },
        "outputId": "7aa80178-adde-49eb-d308-113d242d43d8"
      },
      "source": [
        "s3.ls('recovery-data-partnership/output/production/social_distancing/')"
      ],
      "execution_count": null,
      "outputs": [
        {
          "output_type": "execute_result",
          "data": {
            "text/plain": [
              "['recovery-data-partnership/output/production/social_distancing/device_counts_by_county.csv.zip',\n",
              " 'recovery-data-partnership/output/production/social_distancing/device_counts_by_state.csv.zip',\n",
              " 'recovery-data-partnership/output/production/social_distancing/weekly_county_trips',\n",
              " 'recovery-data-partnership/output/production/social_distancing/weekly_state_trips']"
            ]
          },
          "metadata": {
            "tags": []
          },
          "execution_count": 5
        }
      ]
    },
    {
      "cell_type": "markdown",
      "metadata": {
        "id": "0BjAXBQw9f02"
      },
      "source": [
        "Because of the large size of the datasets, we paritioned each output table by year and quarter."
      ]
    },
    {
      "cell_type": "code",
      "metadata": {
        "id": "5Cc8IzAR9f02",
        "colab": {
          "base_uri": "https://localhost:8080/"
        },
        "outputId": "6e351a81-8ecd-4c44-c740-497562d3dec9"
      },
      "source": [
        "s3.ls('recovery-data-partnership/output/production/social_distancing/weekly_state_trips/')"
      ],
      "execution_count": null,
      "outputs": [
        {
          "output_type": "execute_result",
          "data": {
            "text/plain": [
              "['recovery-data-partnership/output/production/social_distancing/weekly_state_trips/weekly_state_trips_2019Q1.csv.zip',\n",
              " 'recovery-data-partnership/output/production/social_distancing/weekly_state_trips/weekly_state_trips_2019Q2.csv.zip',\n",
              " 'recovery-data-partnership/output/production/social_distancing/weekly_state_trips/weekly_state_trips_2019Q3.csv.zip',\n",
              " 'recovery-data-partnership/output/production/social_distancing/weekly_state_trips/weekly_state_trips_2019Q4.csv.zip',\n",
              " 'recovery-data-partnership/output/production/social_distancing/weekly_state_trips/weekly_state_trips_2020Q1.csv.zip',\n",
              " 'recovery-data-partnership/output/production/social_distancing/weekly_state_trips/weekly_state_trips_2020Q2.csv.zip',\n",
              " 'recovery-data-partnership/output/production/social_distancing/weekly_state_trips/weekly_state_trips_2020Q3.csv.zip',\n",
              " 'recovery-data-partnership/output/production/social_distancing/weekly_state_trips/weekly_state_trips_2020Q4.csv.zip']"
            ]
          },
          "metadata": {
            "tags": []
          },
          "execution_count": 6
        }
      ]
    },
    {
      "cell_type": "markdown",
      "metadata": {
        "id": "MKSf2SjDxJLm"
      },
      "source": [
        "### 3. Reading files to dataframe and combine them together"
      ]
    },
    {
      "cell_type": "markdown",
      "metadata": {
        "id": "xh8MCENM9f03"
      },
      "source": [
        "You can easily write a loop to loop through all the year quarter partitions of the datasets and use `pd.concat` to concatenate paritions into one big table."
      ]
    },
    {
      "cell_type": "code",
      "metadata": {
        "id": "fr5TYz5C9f03"
      },
      "source": [
        "dfs = []\n",
        "for dataset in s3.ls('recovery-data-partnership/output/production/social_distancing/weekly_state_trips/'):\n",
        "  df = pd.read_csv(s3.open(dataset, mode='rb'), compression='zip')\n",
        "  dfs.append(df)\n",
        "  del df"
      ],
      "execution_count": null,
      "outputs": []
    },
    {
      "cell_type": "code",
      "metadata": {
        "id": "ox-CJWC39f03"
      },
      "source": [
        "weekly_state_trips = pd.concat(dfs)"
      ],
      "execution_count": null,
      "outputs": []
    },
    {
      "cell_type": "markdown",
      "metadata": {
        "id": "2EjJvZmZ9f03"
      },
      "source": [
        "> Note that because we are paritioning by quarter, that means the last week of a quarter can cross quarters and show up in two paritions. To avoid confusion, we recommend doing a group by by week and the geographic boundry."
      ]
    },
    {
      "cell_type": "code",
      "metadata": {
        "id": "FG-sG-sl9f04"
      },
      "source": [
        "weekly_state_trips = weekly_state_trips.groupby(['year_week', 'origin', 'destination']).sum().reset_index()"
      ],
      "execution_count": null,
      "outputs": []
    },
    {
      "cell_type": "code",
      "metadata": {
        "id": "UGau_aWQ9f04",
        "colab": {
          "base_uri": "https://localhost:8080/",
          "height": 204
        },
        "outputId": "37b68218-1833-402e-bbb0-31d10d8f9669"
      },
      "source": [
        "weekly_state_trips.head()"
      ],
      "execution_count": null,
      "outputs": [
        {
          "output_type": "execute_result",
          "data": {
            "text/html": [
              "<div>\n",
              "<style scoped>\n",
              "    .dataframe tbody tr th:only-of-type {\n",
              "        vertical-align: middle;\n",
              "    }\n",
              "\n",
              "    .dataframe tbody tr th {\n",
              "        vertical-align: top;\n",
              "    }\n",
              "\n",
              "    .dataframe thead th {\n",
              "        text-align: right;\n",
              "    }\n",
              "</style>\n",
              "<table border=\"1\" class=\"dataframe\">\n",
              "  <thead>\n",
              "    <tr style=\"text-align: right;\">\n",
              "      <th></th>\n",
              "      <th>year_week</th>\n",
              "      <th>origin</th>\n",
              "      <th>destination</th>\n",
              "      <th>weekday_trips</th>\n",
              "      <th>weekend_trips</th>\n",
              "      <th>all_trips</th>\n",
              "    </tr>\n",
              "  </thead>\n",
              "  <tbody>\n",
              "    <tr>\n",
              "      <th>0</th>\n",
              "      <td>2019-01</td>\n",
              "      <td>01</td>\n",
              "      <td>NYC</td>\n",
              "      <td>1655.0</td>\n",
              "      <td>894.0</td>\n",
              "      <td>2549</td>\n",
              "    </tr>\n",
              "    <tr>\n",
              "      <th>1</th>\n",
              "      <td>2019-01</td>\n",
              "      <td>02</td>\n",
              "      <td>NYC</td>\n",
              "      <td>99.0</td>\n",
              "      <td>35.0</td>\n",
              "      <td>134</td>\n",
              "    </tr>\n",
              "    <tr>\n",
              "      <th>2</th>\n",
              "      <td>2019-01</td>\n",
              "      <td>04</td>\n",
              "      <td>NYC</td>\n",
              "      <td>1488.0</td>\n",
              "      <td>708.0</td>\n",
              "      <td>2196</td>\n",
              "    </tr>\n",
              "    <tr>\n",
              "      <th>3</th>\n",
              "      <td>2019-01</td>\n",
              "      <td>05</td>\n",
              "      <td>NYC</td>\n",
              "      <td>733.0</td>\n",
              "      <td>505.0</td>\n",
              "      <td>1238</td>\n",
              "    </tr>\n",
              "    <tr>\n",
              "      <th>4</th>\n",
              "      <td>2019-01</td>\n",
              "      <td>06</td>\n",
              "      <td>NYC</td>\n",
              "      <td>14045.0</td>\n",
              "      <td>6724.0</td>\n",
              "      <td>20769</td>\n",
              "    </tr>\n",
              "  </tbody>\n",
              "</table>\n",
              "</div>"
            ],
            "text/plain": [
              "  year_week origin destination  weekday_trips  weekend_trips  all_trips\n",
              "0   2019-01     01         NYC         1655.0          894.0       2549\n",
              "1   2019-01     02         NYC           99.0           35.0        134\n",
              "2   2019-01     04         NYC         1488.0          708.0       2196\n",
              "3   2019-01     05         NYC          733.0          505.0       1238\n",
              "4   2019-01     06         NYC        14045.0         6724.0      20769"
            ]
          },
          "metadata": {
            "tags": []
          },
          "execution_count": 10
        }
      ]
    },
    {
      "cell_type": "markdown",
      "metadata": {
        "id": "doZRUoLYyde2"
      },
      "source": [
        "### 4. We also prepared look up tables"
      ]
    },
    {
      "cell_type": "code",
      "metadata": {
        "id": "QLa0xKRu9f04",
        "colab": {
          "base_uri": "https://localhost:8080/"
        },
        "outputId": "356eb618-c2ee-4e8f-ddf5-ccd527dcdcfd"
      },
      "source": [
        "s3.ls('recovery-data-partnership/output/production/lookups/')"
      ],
      "execution_count": null,
      "outputs": [
        {
          "output_type": "execute_result",
          "data": {
            "text/plain": [
              "['recovery-data-partnership/output/production/lookups/',\n",
              " 'recovery-data-partnership/output/production/lookups/fips_to_county.csv',\n",
              " 'recovery-data-partnership/output/production/lookups/fips_to_state.csv',\n",
              " 'recovery-data-partnership/output/production/lookups/naics_sector.csv',\n",
              " 'recovery-data-partnership/output/production/lookups/naics_subsector.csv',\n",
              " 'recovery-data-partnership/output/production/lookups/nta_to_boro_county.csv']"
            ]
          },
          "metadata": {
            "tags": []
          },
          "execution_count": 11
        }
      ]
    },
    {
      "cell_type": "markdown",
      "metadata": {
        "id": "zqM9FIoD9f04"
      },
      "source": [
        "The `state_lookup` table will give you the state names"
      ]
    },
    {
      "cell_type": "code",
      "metadata": {
        "id": "84KxHu8U9f04",
        "colab": {
          "base_uri": "https://localhost:8080/",
          "height": 204
        },
        "outputId": "8f9f04ad-b9f6-436e-8cfd-7fe6fb01b457"
      },
      "source": [
        "state_lookup = pd.read_csv(s3.open('recovery-data-partnership/output/production/lookups/fips_to_state.csv', mode='rb'), dtype=str)\n",
        "state_lookup.head()"
      ],
      "execution_count": null,
      "outputs": [
        {
          "output_type": "execute_result",
          "data": {
            "text/html": [
              "<div>\n",
              "<style scoped>\n",
              "    .dataframe tbody tr th:only-of-type {\n",
              "        vertical-align: middle;\n",
              "    }\n",
              "\n",
              "    .dataframe tbody tr th {\n",
              "        vertical-align: top;\n",
              "    }\n",
              "\n",
              "    .dataframe thead th {\n",
              "        text-align: right;\n",
              "    }\n",
              "</style>\n",
              "<table border=\"1\" class=\"dataframe\">\n",
              "  <thead>\n",
              "    <tr style=\"text-align: right;\">\n",
              "      <th></th>\n",
              "      <th>fips</th>\n",
              "      <th>state</th>\n",
              "    </tr>\n",
              "  </thead>\n",
              "  <tbody>\n",
              "    <tr>\n",
              "      <th>0</th>\n",
              "      <td>01</td>\n",
              "      <td>Alabama</td>\n",
              "    </tr>\n",
              "    <tr>\n",
              "      <th>1</th>\n",
              "      <td>02</td>\n",
              "      <td>Alaska</td>\n",
              "    </tr>\n",
              "    <tr>\n",
              "      <th>2</th>\n",
              "      <td>04</td>\n",
              "      <td>Arizona</td>\n",
              "    </tr>\n",
              "    <tr>\n",
              "      <th>3</th>\n",
              "      <td>05</td>\n",
              "      <td>Arkansas</td>\n",
              "    </tr>\n",
              "    <tr>\n",
              "      <th>4</th>\n",
              "      <td>06</td>\n",
              "      <td>California</td>\n",
              "    </tr>\n",
              "  </tbody>\n",
              "</table>\n",
              "</div>"
            ],
            "text/plain": [
              "  fips       state\n",
              "0   01     Alabama\n",
              "1   02      Alaska\n",
              "2   04     Arizona\n",
              "3   05    Arkansas\n",
              "4   06  California"
            ]
          },
          "metadata": {
            "tags": []
          },
          "execution_count": 12
        }
      ]
    },
    {
      "cell_type": "code",
      "metadata": {
        "id": "hL44Nz7D9f05",
        "colab": {
          "base_uri": "https://localhost:8080/",
          "height": 204
        },
        "outputId": "44d2bbbc-62fa-4f4e-f83e-b07f8759f77f"
      },
      "source": [
        "named_weekly_state_trips = pd.merge(weekly_state_trips, state_lookup, how='left', left_on='origin', right_on='fips')\n",
        "named_weekly_state_trips.head()"
      ],
      "execution_count": null,
      "outputs": [
        {
          "output_type": "execute_result",
          "data": {
            "text/html": [
              "<div>\n",
              "<style scoped>\n",
              "    .dataframe tbody tr th:only-of-type {\n",
              "        vertical-align: middle;\n",
              "    }\n",
              "\n",
              "    .dataframe tbody tr th {\n",
              "        vertical-align: top;\n",
              "    }\n",
              "\n",
              "    .dataframe thead th {\n",
              "        text-align: right;\n",
              "    }\n",
              "</style>\n",
              "<table border=\"1\" class=\"dataframe\">\n",
              "  <thead>\n",
              "    <tr style=\"text-align: right;\">\n",
              "      <th></th>\n",
              "      <th>year_week</th>\n",
              "      <th>origin</th>\n",
              "      <th>destination</th>\n",
              "      <th>weekday_trips</th>\n",
              "      <th>weekend_trips</th>\n",
              "      <th>all_trips</th>\n",
              "      <th>fips</th>\n",
              "      <th>state</th>\n",
              "    </tr>\n",
              "  </thead>\n",
              "  <tbody>\n",
              "    <tr>\n",
              "      <th>0</th>\n",
              "      <td>2019-01</td>\n",
              "      <td>01</td>\n",
              "      <td>NYC</td>\n",
              "      <td>1655.0</td>\n",
              "      <td>894.0</td>\n",
              "      <td>2549</td>\n",
              "      <td>01</td>\n",
              "      <td>Alabama</td>\n",
              "    </tr>\n",
              "    <tr>\n",
              "      <th>1</th>\n",
              "      <td>2019-01</td>\n",
              "      <td>02</td>\n",
              "      <td>NYC</td>\n",
              "      <td>99.0</td>\n",
              "      <td>35.0</td>\n",
              "      <td>134</td>\n",
              "      <td>02</td>\n",
              "      <td>Alaska</td>\n",
              "    </tr>\n",
              "    <tr>\n",
              "      <th>2</th>\n",
              "      <td>2019-01</td>\n",
              "      <td>04</td>\n",
              "      <td>NYC</td>\n",
              "      <td>1488.0</td>\n",
              "      <td>708.0</td>\n",
              "      <td>2196</td>\n",
              "      <td>04</td>\n",
              "      <td>Arizona</td>\n",
              "    </tr>\n",
              "    <tr>\n",
              "      <th>3</th>\n",
              "      <td>2019-01</td>\n",
              "      <td>05</td>\n",
              "      <td>NYC</td>\n",
              "      <td>733.0</td>\n",
              "      <td>505.0</td>\n",
              "      <td>1238</td>\n",
              "      <td>05</td>\n",
              "      <td>Arkansas</td>\n",
              "    </tr>\n",
              "    <tr>\n",
              "      <th>4</th>\n",
              "      <td>2019-01</td>\n",
              "      <td>06</td>\n",
              "      <td>NYC</td>\n",
              "      <td>14045.0</td>\n",
              "      <td>6724.0</td>\n",
              "      <td>20769</td>\n",
              "      <td>06</td>\n",
              "      <td>California</td>\n",
              "    </tr>\n",
              "  </tbody>\n",
              "</table>\n",
              "</div>"
            ],
            "text/plain": [
              "  year_week origin destination  ...  all_trips  fips       state\n",
              "0   2019-01     01         NYC  ...       2549    01     Alabama\n",
              "1   2019-01     02         NYC  ...        134    02      Alaska\n",
              "2   2019-01     04         NYC  ...       2196    04     Arizona\n",
              "3   2019-01     05         NYC  ...       1238    05    Arkansas\n",
              "4   2019-01     06         NYC  ...      20769    06  California\n",
              "\n",
              "[5 rows x 8 columns]"
            ]
          },
          "metadata": {
            "tags": []
          },
          "execution_count": 13
        }
      ]
    },
    {
      "cell_type": "markdown",
      "metadata": {
        "id": "6JVa6nrc9f05"
      },
      "source": [
        "The device count table for states contains the number of devices that's \"home\" is in each state. Because the state trips table concerns movement in and out of NYC, the device counts for NY do not include the 5 boroughs. These counts are instead stored as state = 'NYC'. Also note that the devices counts are only associated with the origin location. \n"
      ]
    },
    {
      "cell_type": "code",
      "metadata": {
        "id": "G6gD5nHO9f05"
      },
      "source": [
        "state_devices = pd.read_csv(s3.open('recovery-data-partnership/output/production/social_distancing/device_counts_by_state.csv.zip', mode='rb'),  compression='zip')"
      ],
      "execution_count": null,
      "outputs": []
    },
    {
      "cell_type": "code",
      "metadata": {
        "id": "-B0VqYej9f05",
        "colab": {
          "base_uri": "https://localhost:8080/",
          "height": 204
        },
        "outputId": "5222b12c-5113-454e-fc97-d702447add0e"
      },
      "source": [
        "state_devices.sort_values(by=['year_week', 'state']).head()"
      ],
      "execution_count": null,
      "outputs": [
        {
          "output_type": "execute_result",
          "data": {
            "text/html": [
              "<div>\n",
              "<style scoped>\n",
              "    .dataframe tbody tr th:only-of-type {\n",
              "        vertical-align: middle;\n",
              "    }\n",
              "\n",
              "    .dataframe tbody tr th {\n",
              "        vertical-align: top;\n",
              "    }\n",
              "\n",
              "    .dataframe thead th {\n",
              "        text-align: right;\n",
              "    }\n",
              "</style>\n",
              "<table border=\"1\" class=\"dataframe\">\n",
              "  <thead>\n",
              "    <tr style=\"text-align: right;\">\n",
              "      <th></th>\n",
              "      <th>date</th>\n",
              "      <th>year_week</th>\n",
              "      <th>state</th>\n",
              "      <th>device_count</th>\n",
              "      <th>completely_home_device_count</th>\n",
              "    </tr>\n",
              "  </thead>\n",
              "  <tbody>\n",
              "    <tr>\n",
              "      <th>2275</th>\n",
              "      <td>2019-01-01</td>\n",
              "      <td>2019-01</td>\n",
              "      <td>01</td>\n",
              "      <td>411008</td>\n",
              "      <td>158077</td>\n",
              "    </tr>\n",
              "    <tr>\n",
              "      <th>5669</th>\n",
              "      <td>2019-01-02</td>\n",
              "      <td>2019-01</td>\n",
              "      <td>01</td>\n",
              "      <td>427789</td>\n",
              "      <td>133183</td>\n",
              "    </tr>\n",
              "    <tr>\n",
              "      <th>9880</th>\n",
              "      <td>2019-01-06</td>\n",
              "      <td>2019-01</td>\n",
              "      <td>01</td>\n",
              "      <td>66</td>\n",
              "      <td>28</td>\n",
              "    </tr>\n",
              "    <tr>\n",
              "      <th>14304</th>\n",
              "      <td>2019-01-01</td>\n",
              "      <td>2019-01</td>\n",
              "      <td>01</td>\n",
              "      <td>57</td>\n",
              "      <td>27</td>\n",
              "    </tr>\n",
              "    <tr>\n",
              "      <th>16911</th>\n",
              "      <td>2019-01-03</td>\n",
              "      <td>2019-01</td>\n",
              "      <td>01</td>\n",
              "      <td>429289</td>\n",
              "      <td>134135</td>\n",
              "    </tr>\n",
              "  </tbody>\n",
              "</table>\n",
              "</div>"
            ],
            "text/plain": [
              "             date year_week state  device_count  completely_home_device_count\n",
              "2275   2019-01-01   2019-01    01        411008                        158077\n",
              "5669   2019-01-02   2019-01    01        427789                        133183\n",
              "9880   2019-01-06   2019-01    01            66                            28\n",
              "14304  2019-01-01   2019-01    01            57                            27\n",
              "16911  2019-01-03   2019-01    01        429289                        134135"
            ]
          },
          "metadata": {
            "tags": []
          },
          "execution_count": 15
        }
      ]
    },
    {
      "cell_type": "code",
      "metadata": {
        "id": "QgMmYlnC9f06"
      },
      "source": [
        "state_devices = state_devices.groupby(['year_week',\t'state']).sum().reset_index()"
      ],
      "execution_count": null,
      "outputs": []
    },
    {
      "cell_type": "code",
      "metadata": {
        "id": "M_4XKVBP9f06",
        "colab": {
          "base_uri": "https://localhost:8080/",
          "height": 204
        },
        "outputId": "0660c620-7dbf-49bf-977c-0e9505115df7"
      },
      "source": [
        "state_devices.head()"
      ],
      "execution_count": null,
      "outputs": [
        {
          "output_type": "execute_result",
          "data": {
            "text/html": [
              "<div>\n",
              "<style scoped>\n",
              "    .dataframe tbody tr th:only-of-type {\n",
              "        vertical-align: middle;\n",
              "    }\n",
              "\n",
              "    .dataframe tbody tr th {\n",
              "        vertical-align: top;\n",
              "    }\n",
              "\n",
              "    .dataframe thead th {\n",
              "        text-align: right;\n",
              "    }\n",
              "</style>\n",
              "<table border=\"1\" class=\"dataframe\">\n",
              "  <thead>\n",
              "    <tr style=\"text-align: right;\">\n",
              "      <th></th>\n",
              "      <th>year_week</th>\n",
              "      <th>state</th>\n",
              "      <th>device_count</th>\n",
              "      <th>completely_home_device_count</th>\n",
              "    </tr>\n",
              "  </thead>\n",
              "  <tbody>\n",
              "    <tr>\n",
              "      <th>0</th>\n",
              "      <td>2019-01</td>\n",
              "      <td>01</td>\n",
              "      <td>2496438</td>\n",
              "      <td>817154</td>\n",
              "    </tr>\n",
              "    <tr>\n",
              "      <th>1</th>\n",
              "      <td>2019-01</td>\n",
              "      <td>02</td>\n",
              "      <td>229101</td>\n",
              "      <td>95159</td>\n",
              "    </tr>\n",
              "    <tr>\n",
              "      <th>2</th>\n",
              "      <td>2019-01</td>\n",
              "      <td>04</td>\n",
              "      <td>2683123</td>\n",
              "      <td>1114945</td>\n",
              "    </tr>\n",
              "    <tr>\n",
              "      <th>3</th>\n",
              "      <td>2019-01</td>\n",
              "      <td>05</td>\n",
              "      <td>1398385</td>\n",
              "      <td>473440</td>\n",
              "    </tr>\n",
              "    <tr>\n",
              "      <th>4</th>\n",
              "      <td>2019-01</td>\n",
              "      <td>06</td>\n",
              "      <td>13137166</td>\n",
              "      <td>5340718</td>\n",
              "    </tr>\n",
              "  </tbody>\n",
              "</table>\n",
              "</div>"
            ],
            "text/plain": [
              "  year_week state  device_count  completely_home_device_count\n",
              "0   2019-01    01       2496438                        817154\n",
              "1   2019-01    02        229101                         95159\n",
              "2   2019-01    04       2683123                       1114945\n",
              "3   2019-01    05       1398385                        473440\n",
              "4   2019-01    06      13137166                       5340718"
            ]
          },
          "metadata": {
            "tags": []
          },
          "execution_count": 17
        }
      ]
    },
    {
      "cell_type": "code",
      "metadata": {
        "id": "mu7b4JOr9f06"
      },
      "source": [
        "weekly_state_trips_with_devices = pd.merge(\n",
        "    weekly_state_trips, state_devices, \n",
        "    how='left', \n",
        "    left_on=['year_week', 'origin'],\n",
        "    right_on=['year_week', 'state'])"
      ],
      "execution_count": null,
      "outputs": []
    },
    {
      "cell_type": "code",
      "metadata": {
        "id": "i0xbdOMu9f06",
        "colab": {
          "base_uri": "https://localhost:8080/"
        },
        "outputId": "dee56aab-ebdc-486f-bfcf-44073dd5f291"
      },
      "source": [
        "weekly_state_trips_with_devices.shape"
      ],
      "execution_count": null,
      "outputs": [
        {
          "output_type": "execute_result",
          "data": {
            "text/plain": [
              "(11029, 9)"
            ]
          },
          "metadata": {
            "tags": []
          },
          "execution_count": 19
        }
      ]
    },
    {
      "cell_type": "code",
      "metadata": {
        "id": "51COOPto9f06",
        "colab": {
          "base_uri": "https://localhost:8080/",
          "height": 204
        },
        "outputId": "88b63292-ef04-47ec-94f7-8c65e23961bf"
      },
      "source": [
        "weekly_state_trips_with_devices.head()"
      ],
      "execution_count": null,
      "outputs": [
        {
          "output_type": "execute_result",
          "data": {
            "text/html": [
              "<div>\n",
              "<style scoped>\n",
              "    .dataframe tbody tr th:only-of-type {\n",
              "        vertical-align: middle;\n",
              "    }\n",
              "\n",
              "    .dataframe tbody tr th {\n",
              "        vertical-align: top;\n",
              "    }\n",
              "\n",
              "    .dataframe thead th {\n",
              "        text-align: right;\n",
              "    }\n",
              "</style>\n",
              "<table border=\"1\" class=\"dataframe\">\n",
              "  <thead>\n",
              "    <tr style=\"text-align: right;\">\n",
              "      <th></th>\n",
              "      <th>year_week</th>\n",
              "      <th>origin</th>\n",
              "      <th>destination</th>\n",
              "      <th>weekday_trips</th>\n",
              "      <th>weekend_trips</th>\n",
              "      <th>all_trips</th>\n",
              "      <th>state</th>\n",
              "      <th>device_count</th>\n",
              "      <th>completely_home_device_count</th>\n",
              "    </tr>\n",
              "  </thead>\n",
              "  <tbody>\n",
              "    <tr>\n",
              "      <th>0</th>\n",
              "      <td>2019-01</td>\n",
              "      <td>01</td>\n",
              "      <td>NYC</td>\n",
              "      <td>1655.0</td>\n",
              "      <td>894.0</td>\n",
              "      <td>2549</td>\n",
              "      <td>01</td>\n",
              "      <td>2496438</td>\n",
              "      <td>817154</td>\n",
              "    </tr>\n",
              "    <tr>\n",
              "      <th>1</th>\n",
              "      <td>2019-01</td>\n",
              "      <td>02</td>\n",
              "      <td>NYC</td>\n",
              "      <td>99.0</td>\n",
              "      <td>35.0</td>\n",
              "      <td>134</td>\n",
              "      <td>02</td>\n",
              "      <td>229101</td>\n",
              "      <td>95159</td>\n",
              "    </tr>\n",
              "    <tr>\n",
              "      <th>2</th>\n",
              "      <td>2019-01</td>\n",
              "      <td>04</td>\n",
              "      <td>NYC</td>\n",
              "      <td>1488.0</td>\n",
              "      <td>708.0</td>\n",
              "      <td>2196</td>\n",
              "      <td>04</td>\n",
              "      <td>2683123</td>\n",
              "      <td>1114945</td>\n",
              "    </tr>\n",
              "    <tr>\n",
              "      <th>3</th>\n",
              "      <td>2019-01</td>\n",
              "      <td>05</td>\n",
              "      <td>NYC</td>\n",
              "      <td>733.0</td>\n",
              "      <td>505.0</td>\n",
              "      <td>1238</td>\n",
              "      <td>05</td>\n",
              "      <td>1398385</td>\n",
              "      <td>473440</td>\n",
              "    </tr>\n",
              "    <tr>\n",
              "      <th>4</th>\n",
              "      <td>2019-01</td>\n",
              "      <td>06</td>\n",
              "      <td>NYC</td>\n",
              "      <td>14045.0</td>\n",
              "      <td>6724.0</td>\n",
              "      <td>20769</td>\n",
              "      <td>06</td>\n",
              "      <td>13137166</td>\n",
              "      <td>5340718</td>\n",
              "    </tr>\n",
              "  </tbody>\n",
              "</table>\n",
              "</div>"
            ],
            "text/plain": [
              "  year_week origin  ... device_count  completely_home_device_count\n",
              "0   2019-01     01  ...      2496438                        817154\n",
              "1   2019-01     02  ...       229101                         95159\n",
              "2   2019-01     04  ...      2683123                       1114945\n",
              "3   2019-01     05  ...      1398385                        473440\n",
              "4   2019-01     06  ...     13137166                       5340718\n",
              "\n",
              "[5 rows x 9 columns]"
            ]
          },
          "metadata": {
            "tags": []
          },
          "execution_count": 20
        }
      ]
    }
  ]
}