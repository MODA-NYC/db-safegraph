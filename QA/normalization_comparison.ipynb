{
 "cells": [
  {
   "cell_type": "code",
   "execution_count": 39,
   "metadata": {},
   "outputs": [],
   "source": [
    "import pandas as pd\n",
    "from pathlib import Path\n",
    "import scipy\n",
    "parks_data = pd.read_csv(Path.home() / 'Downloads' / 'poi_with_population_count_2022-01-31.csv')\n",
    "hps = pd.read_csv(Path.home() / 'Downloads' / '2022-01-26-home_panel_summary.csv')\n",
    "census = pd.read_csv(Path.home() / 'Downloads' / 'cbg_b01.csv')"
   ]
  },
  {
   "cell_type": "code",
   "execution_count": 40,
   "metadata": {},
   "outputs": [
    {
     "name": "stdout",
     "output_type": "stream",
     "text": [
      "<class 'pandas.core.frame.DataFrame'>\n",
      "RangeIndex: 271398 entries, 0 to 271397\n",
      "Data columns (total 7 columns):\n",
      " #   Column                          Non-Null Count   Dtype \n",
      "---  ------                          --------------   ----- \n",
      " 0   date_range_start                271398 non-null  object\n",
      " 1   date_range_end                  271398 non-null  object\n",
      " 2   region                          271398 non-null  object\n",
      " 3   iso_country_code                271398 non-null  object\n",
      " 4   census_block_group              271398 non-null  object\n",
      " 5   number_devices_residing         271398 non-null  int64 \n",
      " 6   number_devices_primary_daytime  271398 non-null  int64 \n",
      "dtypes: int64(2), object(5)\n",
      "memory usage: 14.5+ MB\n",
      "None\n"
     ]
    }
   ],
   "source": [
    "print(hps.info())"
   ]
  },
  {
   "cell_type": "code",
   "execution_count": 41,
   "metadata": {},
   "outputs": [
    {
     "name": "stdout",
     "output_type": "stream",
     "text": [
      "<class 'pandas.core.frame.DataFrame'>\n",
      "RangeIndex: 83870 entries, 0 to 83869\n",
      "Data columns (total 33 columns):\n",
      " #   Column                     Non-Null Count  Dtype  \n",
      "---  ------                     --------------  -----  \n",
      " 0   Unnamed: 0                 83870 non-null  int64  \n",
      " 1   placekey                   83870 non-null  object \n",
      " 2   parent_placekey            5182 non-null   object \n",
      " 3   location_name              83870 non-null  object \n",
      " 4   street_address             83870 non-null  object \n",
      " 5   city                       83870 non-null  object \n",
      " 6   region                     83870 non-null  object \n",
      " 7   postal_code                83870 non-null  int64  \n",
      " 8   iso_country_code           83870 non-null  object \n",
      " 9   safegraph_brand_ids        10183 non-null  object \n",
      " 10  brands                     10183 non-null  object \n",
      " 11  date_range_start           83870 non-null  object \n",
      " 12  date_range_end             83870 non-null  object \n",
      " 13  raw_visit_counts           83870 non-null  int64  \n",
      " 14  raw_visitor_counts         83870 non-null  int64  \n",
      " 15  visits_by_day              83870 non-null  object \n",
      " 16  visits_by_each_hour        83870 non-null  object \n",
      " 17  poi_cbg                    83870 non-null  int64  \n",
      " 18  visitor_home_cbgs          83870 non-null  object \n",
      " 19  visitor_home_aggregation   83870 non-null  object \n",
      " 20  visitor_daytime_cbgs       83870 non-null  object \n",
      " 21  visitor_country_of_origin  82724 non-null  object \n",
      " 22  distance_from_home         60254 non-null  float64\n",
      " 23  median_dwell               83870 non-null  float64\n",
      " 24  bucketed_dwell_times       83870 non-null  object \n",
      " 25  related_same_day_brand     83870 non-null  object \n",
      " 26  related_same_week_brand    83870 non-null  object \n",
      " 27  device_type                83870 non-null  object \n",
      " 28  pop_multiplier             83870 non-null  float64\n",
      " 29  visits_pop_calc            83870 non-null  float64\n",
      " 30  visitors_pop_calc          83870 non-null  float64\n",
      " 31  visits_by_day_pop_calc     83870 non-null  object \n",
      " 32  visits_by_hour_pop_calc    83870 non-null  object \n",
      "dtypes: float64(5), int64(5), object(23)\n",
      "memory usage: 21.1+ MB\n",
      "None\n"
     ]
    }
   ],
   "source": [
    "print(parks_data.info())"
   ]
  },
  {
   "cell_type": "code",
   "execution_count": 42,
   "metadata": {},
   "outputs": [
    {
     "name": "stdout",
     "output_type": "stream",
     "text": [
      "<class 'pandas.core.frame.DataFrame'>\n",
      "RangeIndex: 220333 entries, 0 to 220332\n",
      "Columns: 161 entries, census_block_group to B01003m1\n",
      "dtypes: float64(60), int64(101)\n",
      "memory usage: 270.6 MB\n",
      "None\n"
     ]
    }
   ],
   "source": [
    "print(census.info())"
   ]
  },
  {
   "cell_type": "code",
   "execution_count": null,
   "metadata": {},
   "outputs": [],
   "source": []
  },
  {
   "cell_type": "code",
   "execution_count": 43,
   "metadata": {},
   "outputs": [
    {
     "name": "stdout",
     "output_type": "stream",
     "text": [
      "<class 'pandas.core.frame.DataFrame'>\n",
      "Int64Index: 15463 entries, 127690 to 143152\n",
      "Data columns (total 2 columns):\n",
      " #   Column              Non-Null Count  Dtype\n",
      "---  ------              --------------  -----\n",
      " 0   census_block_group  15463 non-null  int64\n",
      " 1   B01001e1            15463 non-null  int64\n",
      "dtypes: int64(2)\n",
      "memory usage: 362.4 KB\n",
      "None\n"
     ]
    }
   ],
   "source": [
    "census_first = census[['census_block_group', 'B01001e1']]\n",
    "census_first = census_first.loc[census_first['census_block_group'].astype(str).str.startswith('36')]\n",
    "print(census_first.info())"
   ]
  },
  {
   "cell_type": "code",
   "execution_count": 44,
   "metadata": {},
   "outputs": [
    {
     "name": "stdout",
     "output_type": "stream",
     "text": [
      "19572319\n"
     ]
    }
   ],
   "source": [
    "pop_nys = census_first['B01001e1'].sum()\n",
    "print(pop_nys)"
   ]
  },
  {
   "cell_type": "code",
   "execution_count": 45,
   "metadata": {},
   "outputs": [
    {
     "name": "stdout",
     "output_type": "stream",
     "text": [
      "852188\n"
     ]
    }
   ],
   "source": [
    "#find state devices\n",
    "\n",
    "hps_ny = hps.loc[hps['region'] == 'ny']\n",
    "devices_nys = hps_ny['number_devices_residing'].sum()\n",
    "print(devices_nys)"
   ]
  },
  {
   "cell_type": "code",
   "execution_count": 54,
   "metadata": {},
   "outputs": [
    {
     "name": "stdout",
     "output_type": "stream",
     "text": [
      "22.967137533032616\n"
     ]
    }
   ],
   "source": [
    "#find statewide multiplier\n",
    "\n",
    "mult = pop_nys / devices_nys\n",
    "print(mult)"
   ]
  },
  {
   "cell_type": "code",
   "execution_count": 55,
   "metadata": {},
   "outputs": [],
   "source": [
    "compare_df = pd.DataFrame()\n",
    "compare_df['raw_visitor_counts']= parks_data['raw_visitor_counts']\n",
    "compare_df['state_normalized'] = compare_df['raw_visitor_counts'] * mult\n",
    "compare_df['cbg_normalized'] = parks_data['visitors_pop_calc']"
   ]
  },
  {
   "cell_type": "code",
   "execution_count": 56,
   "metadata": {},
   "outputs": [
    {
     "name": "stdout",
     "output_type": "stream",
     "text": [
      "mean error: 234.26722517199738\n",
      "mean percent error: 0.4597828229123951\n",
      "avg state normalized: 665.4278314533815\n",
      "avg cbg normalized: 679.9609107841809\n"
     ]
    }
   ],
   "source": [
    "compare_df['error'] = (compare_df['cbg_normalized'] - compare_df['state_normalized']).apply(abs)\n",
    "compare_df['percent_error'] = (compare_df['cbg_normalized'] - compare_df['state_normalized']).apply(abs) / compare_df['cbg_normalized']\n",
    "print(f\"mean error: {compare_df['error'].mean()}\")\n",
    "print(f\"mean percent error: {compare_df['percent_error'].mean()}\")\n",
    "print(f\"avg state normalized: {compare_df['state_normalized'].mean()}\")\n",
    "print(f\"avg cbg normalized: {compare_df['cbg_normalized'].mean()}\")\n"
   ]
  }
 ],
 "metadata": {
  "kernelspec": {
   "display_name": "Python 3.9.7 ('base')",
   "language": "python",
   "name": "python3"
  },
  "language_info": {
   "codemirror_mode": {
    "name": "ipython",
    "version": 3
   },
   "file_extension": ".py",
   "mimetype": "text/x-python",
   "name": "python",
   "nbconvert_exporter": "python",
   "pygments_lexer": "ipython3",
   "version": "3.9.7"
  },
  "orig_nbformat": 4,
  "vscode": {
   "interpreter": {
    "hash": "ff7af36d6c40e3c51d460c271ec37ac0ae432f90c62c960a8c01864e1aaa5208"
   }
  }
 },
 "nbformat": 4,
 "nbformat_minor": 2
}
