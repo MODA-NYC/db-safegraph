{
 "cells": [
  {
   "cell_type": "code",
   "execution_count": 29,
   "metadata": {},
   "outputs": [],
   "source": [
    "import pandas as pd\n",
    "from pathlib import Path\n",
    "import scipy\n",
    "parks_data = pd.read_csv(Path.home() / 'Downloads' / 'poi_with_population_count_2022-01-31.csv')\n",
    "hps = pd.read_csv(Path.home() / 'Downloads' / '2022-01-26-home_panel_summary.csv')\n",
    "census = pd.read_csv(Path.home() / 'Downloads' / 'cbg_b01.csv')"
   ]
  },
  {
   "cell_type": "code",
   "execution_count": 8,
   "metadata": {},
   "outputs": [
    {
     "name": "stdout",
     "output_type": "stream",
     "text": [
      "<class 'pandas.core.frame.DataFrame'>\n",
      "RangeIndex: 271398 entries, 0 to 271397\n",
      "Data columns (total 7 columns):\n",
      " #   Column                          Non-Null Count   Dtype \n",
      "---  ------                          --------------   ----- \n",
      " 0   date_range_start                271398 non-null  object\n",
      " 1   date_range_end                  271398 non-null  object\n",
      " 2   region                          271398 non-null  object\n",
      " 3   iso_country_code                271398 non-null  object\n",
      " 4   census_block_group              271398 non-null  object\n",
      " 5   number_devices_residing         271398 non-null  int64 \n",
      " 6   number_devices_primary_daytime  271398 non-null  int64 \n",
      "dtypes: int64(2), object(5)\n",
      "memory usage: 14.5+ MB\n",
      "None\n"
     ]
    }
   ],
   "source": [
    "print(hps.info())"
   ]
  },
  {
   "cell_type": "code",
   "execution_count": 6,
   "metadata": {},
   "outputs": [
    {
     "name": "stdout",
     "output_type": "stream",
     "text": [
      "<class 'pandas.core.frame.DataFrame'>\n",
      "RangeIndex: 2637 entries, 0 to 2636\n",
      "Data columns (total 37 columns):\n",
      " #   Column                     Non-Null Count  Dtype  \n",
      "---  ------                     --------------  -----  \n",
      " 0   Unnamed: 0                 2637 non-null   int64  \n",
      " 1   placekey                   2637 non-null   object \n",
      " 2   location_name_x            2637 non-null   object \n",
      " 3   latitude                   2637 non-null   float64\n",
      " 4   longitude                  2637 non-null   float64\n",
      " 5   Unnamed: 0.1               2337 non-null   float64\n",
      " 6   parent_placekey            343 non-null    object \n",
      " 7   location_name_y            2337 non-null   object \n",
      " 8   street_address             2337 non-null   object \n",
      " 9   city                       2337 non-null   object \n",
      " 10  region                     2337 non-null   object \n",
      " 11  postal_code                2337 non-null   float64\n",
      " 12  iso_country_code           2337 non-null   object \n",
      " 13  safegraph_brand_ids        26 non-null     object \n",
      " 14  brands                     26 non-null     object \n",
      " 15  date_range_start           2337 non-null   object \n",
      " 16  date_range_end             2337 non-null   object \n",
      " 17  raw_visit_counts           2337 non-null   float64\n",
      " 18  raw_visitor_counts         2337 non-null   float64\n",
      " 19  visits_by_day              2337 non-null   object \n",
      " 20  visits_by_each_hour        2337 non-null   object \n",
      " 21  poi_cbg                    2337 non-null   float64\n",
      " 22  visitor_home_cbgs          2337 non-null   object \n",
      " 23  visitor_home_aggregation   2337 non-null   object \n",
      " 24  visitor_daytime_cbgs       2337 non-null   object \n",
      " 25  visitor_country_of_origin  2329 non-null   object \n",
      " 26  distance_from_home         2196 non-null   float64\n",
      " 27  median_dwell               2337 non-null   float64\n",
      " 28  bucketed_dwell_times       2337 non-null   object \n",
      " 29  related_same_day_brand     2337 non-null   object \n",
      " 30  related_same_week_brand    2337 non-null   object \n",
      " 31  device_type                2337 non-null   object \n",
      " 32  pop_multiplier             2337 non-null   float64\n",
      " 33  visits_pop_calc            2337 non-null   float64\n",
      " 34  visitors_pop_calc          2337 non-null   float64\n",
      " 35  visits_by_day_pop_calc     2337 non-null   object \n",
      " 36  visits_by_hour_pop_calc    2337 non-null   object \n",
      "dtypes: float64(12), int64(1), object(24)\n",
      "memory usage: 762.4+ KB\n",
      "None\n"
     ]
    }
   ],
   "source": [
    "print(parks_data.info())"
   ]
  },
  {
   "cell_type": "code",
   "execution_count": 15,
   "metadata": {},
   "outputs": [
    {
     "name": "stdout",
     "output_type": "stream",
     "text": [
      "<class 'pandas.core.frame.DataFrame'>\n",
      "RangeIndex: 220333 entries, 0 to 220332\n",
      "Columns: 161 entries, census_block_group to B01003m1\n",
      "dtypes: float64(60), int64(101)\n",
      "memory usage: 270.6 MB\n",
      "None\n"
     ]
    }
   ],
   "source": [
    "print(census.info())"
   ]
  },
  {
   "cell_type": "code",
   "execution_count": null,
   "metadata": {},
   "outputs": [],
   "source": []
  },
  {
   "cell_type": "code",
   "execution_count": 23,
   "metadata": {},
   "outputs": [
    {
     "name": "stdout",
     "output_type": "stream",
     "text": [
      "<class 'pandas.core.frame.DataFrame'>\n",
      "Int64Index: 15463 entries, 127690 to 143152\n",
      "Data columns (total 2 columns):\n",
      " #   Column              Non-Null Count  Dtype\n",
      "---  ------              --------------  -----\n",
      " 0   census_block_group  15463 non-null  int64\n",
      " 1   B01001e1            15463 non-null  int64\n",
      "dtypes: int64(2)\n",
      "memory usage: 362.4 KB\n",
      "None\n"
     ]
    }
   ],
   "source": [
    "census_first = census[['census_block_group', 'B01001e1']]\n",
    "census_first = census_first.loc[census_first['census_block_group'].astype(str).str.startswith('36')]\n",
    "print(census_first.info())"
   ]
  },
  {
   "cell_type": "code",
   "execution_count": 27,
   "metadata": {},
   "outputs": [
    {
     "name": "stdout",
     "output_type": "stream",
     "text": [
      "19572319\n"
     ]
    }
   ],
   "source": [
    "pop_nys = census_first['B01001e1'].sum()\n",
    "print(pop_nys)"
   ]
  },
  {
   "cell_type": "code",
   "execution_count": 25,
   "metadata": {},
   "outputs": [
    {
     "name": "stdout",
     "output_type": "stream",
     "text": [
      "852188\n"
     ]
    }
   ],
   "source": [
    "#find state devices\n",
    "\n",
    "hps_ny = hps.loc[hps['region'] == 'ny']\n",
    "devices_nys = hps_ny['number_devices_residing'].sum()\n",
    "print(devices_nys)"
   ]
  },
  {
   "cell_type": "code",
   "execution_count": 28,
   "metadata": {},
   "outputs": [
    {
     "name": "stdout",
     "output_type": "stream",
     "text": [
      "22.967137533032616\n"
     ]
    }
   ],
   "source": [
    "#find statewide multiplier\n",
    "\n",
    "mult = pop_nys / devices_nys\n",
    "print(mult)"
   ]
  },
  {
   "cell_type": "code",
   "execution_count": 34,
   "metadata": {},
   "outputs": [],
   "source": [
    "compare_df = pd.DataFrame()\n",
    "compare_df['raw_counts']= parks_data['raw_visitor_counts']\n",
    "compare_df['state_normalized'] = compare_df['raw_counts'] * mult\n",
    "compare_df['cbg_normalized'] = parks_data['visits_pop_calc']"
   ]
  },
  {
   "cell_type": "code",
   "execution_count": 38,
   "metadata": {},
   "outputs": [
    {
     "name": "stdout",
     "output_type": "stream",
     "text": [
      "mean error: 1958.8608511341095\n",
      "mean percent error: 0.5956371868427998\n",
      "avg state normalized: 2808.870109912794\n",
      "avg cbg normalized: 0       3607.309091\n",
      "1       1058.234375\n",
      "2       6290.619779\n",
      "3       3636.989916\n",
      "4        415.991006\n",
      "           ...     \n",
      "2632    1969.333333\n",
      "2633     862.898180\n",
      "2634    2092.149859\n",
      "2635     365.867769\n",
      "2636            NaN\n",
      "Name: cbg_normalized, Length: 2637, dtype: float64\n"
     ]
    }
   ],
   "source": [
    "compare_df['error'] = (compare_df['cbg_normalized'] - compare_df['state_normalized']).apply(abs)\n",
    "compare_df['percent_error'] = (compare_df['cbg_normalized'] - compare_df['state_normalized']).apply(abs) / compare_df['cbg_normalized']\n",
    "print(f\"mean error: {compare_df['error'].mean()}\")\n",
    "print(f\"mean percent error: {compare_df['percent_error'].mean()}\")\n",
    "print(f\"avg state normalized: {compare_df['state_normalized'].mean()}\")\n",
    "print(f\"avg cbg normalized: {compare_df['cbg_normalized']}\")\n"
   ]
  }
 ],
 "metadata": {
  "kernelspec": {
   "display_name": "Python 3.9.7 ('base')",
   "language": "python",
   "name": "python3"
  },
  "language_info": {
   "codemirror_mode": {
    "name": "ipython",
    "version": 3
   },
   "file_extension": ".py",
   "mimetype": "text/x-python",
   "name": "python",
   "nbconvert_exporter": "python",
   "pygments_lexer": "ipython3",
   "version": "3.9.7"
  },
  "orig_nbformat": 4,
  "vscode": {
   "interpreter": {
    "hash": "ff7af36d6c40e3c51d460c271ec37ac0ae432f90c62c960a8c01864e1aaa5208"
   }
  }
 },
 "nbformat": 4,
 "nbformat_minor": 2
}
