{
 "cells": [
  {
   "cell_type": "code",
   "execution_count": 1,
   "metadata": {},
   "outputs": [
    {
     "data": {
      "text/html": [
       "<style>.container { width:100% !important; }</style>"
      ],
      "text/plain": [
       "<IPython.core.display.HTML object>"
      ]
     },
     "metadata": {},
     "output_type": "display_data"
    }
   ],
   "source": [
    "from IPython.core.display import display, HTML\n",
    "display(HTML(\"<style>.container { width:100% !important; }</style>\"))"
   ]
  },
  {
   "cell_type": "code",
   "execution_count": 2,
   "metadata": {
    "colab": {
     "base_uri": "https://localhost:8080/"
    },
    "id": "fYqe3rx1LxMt",
    "outputId": "50a3b061-bd8b-41a7-9daf-2d72e04b1c87"
   },
   "outputs": [
    {
     "name": "stdout",
     "output_type": "stream",
     "text": [
      "Collecting s3fs\n",
      "  Downloading s3fs-2021.7.0-py3-none-any.whl (25 kB)\n",
      "Collecting fsspec==2021.07.0\n",
      "  Downloading fsspec-2021.7.0-py3-none-any.whl (118 kB)\n",
      "\u001b[?25l\r",
      "\u001b[K     |██▊                             | 10 kB 28.4 MB/s eta 0:00:01\r",
      "\u001b[K     |█████▌                          | 20 kB 32.5 MB/s eta 0:00:01\r",
      "\u001b[K     |████████▎                       | 30 kB 38.8 MB/s eta 0:00:01\r",
      "\u001b[K     |███████████                     | 40 kB 43.2 MB/s eta 0:00:01\r",
      "\u001b[K     |█████████████▉                  | 51 kB 49.1 MB/s eta 0:00:01\r",
      "\u001b[K     |████████████████▋               | 61 kB 36.5 MB/s eta 0:00:01\r",
      "\u001b[K     |███████████████████▍            | 71 kB 36.6 MB/s eta 0:00:01\r",
      "\u001b[K     |██████████████████████▏         | 81 kB 38.1 MB/s eta 0:00:01\r",
      "\u001b[K     |█████████████████████████       | 92 kB 40.5 MB/s eta 0:00:01\r",
      "\u001b[K     |███████████████████████████▊    | 102 kB 43.4 MB/s eta 0:00:01\r",
      "\u001b[K     |██████████████████████████████▌ | 112 kB 43.4 MB/s eta 0:00:01\r",
      "\u001b[K     |████████████████████████████████| 118 kB 43.4 MB/s \n",
      "\u001b[?25hCollecting aiobotocore>=1.0.1\n",
      "  Downloading aiobotocore-1.3.3.tar.gz (50 kB)\n",
      "\u001b[K     |████████████████████████████████| 50 kB 6.9 MB/s \n",
      "\u001b[?25hCollecting botocore<1.20.107,>=1.20.106\n",
      "  Downloading botocore-1.20.106-py2.py3-none-any.whl (7.7 MB)\n",
      "\u001b[K     |████████████████████████████████| 7.7 MB 33.7 MB/s \n",
      "\u001b[?25hCollecting aiohttp>=3.3.1\n",
      "  Downloading aiohttp-3.7.4.post0-cp37-cp37m-manylinux2014_x86_64.whl (1.3 MB)\n",
      "\u001b[K     |████████████████████████████████| 1.3 MB 49.9 MB/s \n",
      "\u001b[?25hRequirement already satisfied: wrapt>=1.10.10 in /usr/local/lib/python3.7/dist-packages (from aiobotocore>=1.0.1->s3fs) (1.12.1)\n",
      "Collecting aioitertools>=0.5.1\n",
      "  Downloading aioitertools-0.8.0-py3-none-any.whl (21 kB)\n",
      "Collecting async-timeout<4.0,>=3.0\n",
      "  Downloading async_timeout-3.0.1-py3-none-any.whl (8.2 kB)\n",
      "Collecting multidict<7.0,>=4.5\n",
      "  Downloading multidict-5.1.0-cp37-cp37m-manylinux2014_x86_64.whl (142 kB)\n",
      "\u001b[K     |████████████████████████████████| 142 kB 60.1 MB/s \n",
      "\u001b[?25hRequirement already satisfied: attrs>=17.3.0 in /usr/local/lib/python3.7/dist-packages (from aiohttp>=3.3.1->aiobotocore>=1.0.1->s3fs) (21.2.0)\n",
      "Requirement already satisfied: chardet<5.0,>=2.0 in /usr/local/lib/python3.7/dist-packages (from aiohttp>=3.3.1->aiobotocore>=1.0.1->s3fs) (3.0.4)\n",
      "Requirement already satisfied: typing-extensions>=3.6.5 in /usr/local/lib/python3.7/dist-packages (from aiohttp>=3.3.1->aiobotocore>=1.0.1->s3fs) (3.7.4.3)\n",
      "Collecting yarl<2.0,>=1.0\n",
      "  Downloading yarl-1.6.3-cp37-cp37m-manylinux2014_x86_64.whl (294 kB)\n",
      "\u001b[K     |████████████████████████████████| 294 kB 42.4 MB/s \n",
      "\u001b[?25hCollecting urllib3<1.27,>=1.25.4\n",
      "  Downloading urllib3-1.26.6-py2.py3-none-any.whl (138 kB)\n",
      "\u001b[K     |████████████████████████████████| 138 kB 61.5 MB/s \n",
      "\u001b[?25hCollecting jmespath<1.0.0,>=0.7.1\n",
      "  Downloading jmespath-0.10.0-py2.py3-none-any.whl (24 kB)\n",
      "Requirement already satisfied: python-dateutil<3.0.0,>=2.1 in /usr/local/lib/python3.7/dist-packages (from botocore<1.20.107,>=1.20.106->aiobotocore>=1.0.1->s3fs) (2.8.1)\n",
      "Requirement already satisfied: six>=1.5 in /usr/local/lib/python3.7/dist-packages (from python-dateutil<3.0.0,>=2.1->botocore<1.20.107,>=1.20.106->aiobotocore>=1.0.1->s3fs) (1.15.0)\n",
      "Requirement already satisfied: idna>=2.0 in /usr/local/lib/python3.7/dist-packages (from yarl<2.0,>=1.0->aiohttp>=3.3.1->aiobotocore>=1.0.1->s3fs) (2.10)\n",
      "Building wheels for collected packages: aiobotocore\n",
      "  Building wheel for aiobotocore (setup.py) ... \u001b[?25l\u001b[?25hdone\n",
      "  Created wheel for aiobotocore: filename=aiobotocore-1.3.3-py3-none-any.whl size=48358 sha256=840fbf00e5a1779ec5274618609e9f502fbc0e9b3552899c206153742728fe41\n",
      "  Stored in directory: /root/.cache/pip/wheels/29/82/8c/1fdaf3716b8ed7b531866c66f388efdaa35c38ae48b0fd9415\n",
      "Successfully built aiobotocore\n",
      "Installing collected packages: multidict, yarl, urllib3, jmespath, async-timeout, botocore, aioitertools, aiohttp, fsspec, aiobotocore, s3fs\n",
      "  Attempting uninstall: urllib3\n",
      "    Found existing installation: urllib3 1.24.3\n",
      "    Uninstalling urllib3-1.24.3:\n",
      "      Successfully uninstalled urllib3-1.24.3\n",
      "\u001b[31mERROR: pip's dependency resolver does not currently take into account all the packages that are installed. This behaviour is the source of the following dependency conflicts.\n",
      "requests 2.23.0 requires urllib3!=1.25.0,!=1.25.1,<1.26,>=1.21.1, but you have urllib3 1.26.6 which is incompatible.\n",
      "datascience 0.10.6 requires folium==0.2.1, but you have folium 0.8.3 which is incompatible.\u001b[0m\n",
      "Successfully installed aiobotocore-1.3.3 aiohttp-3.7.4.post0 aioitertools-0.8.0 async-timeout-3.0.1 botocore-1.20.106 fsspec-2021.7.0 jmespath-0.10.0 multidict-5.1.0 s3fs-2021.7.0 urllib3-1.26.6 yarl-1.6.3\n"
     ]
    }
   ],
   "source": [
    " ! pip3 install s3fs "
   ]
  },
  {
   "cell_type": "code",
   "execution_count": 3,
   "metadata": {
    "colab": {
     "base_uri": "https://localhost:8080/"
    },
    "id": "hQErLXK07g8T",
    "outputId": "9abab16c-67ba-4212-de6f-9f68b1a3f166"
   },
   "outputs": [
    {
     "name": "stdout",
     "output_type": "stream",
     "text": [
      "Requirement already satisfied: gspread in /usr/local/lib/python3.7/dist-packages (3.0.1)\n",
      "Collecting gspread\n",
      "  Downloading gspread-4.0.1-py3-none-any.whl (29 kB)\n",
      "Requirement already satisfied: google-auth>=1.12.0 in /usr/local/lib/python3.7/dist-packages (from gspread) (1.32.1)\n",
      "Requirement already satisfied: google-auth-oauthlib>=0.4.1 in /usr/local/lib/python3.7/dist-packages (from gspread) (0.4.4)\n",
      "Requirement already satisfied: six>=1.9.0 in /usr/local/lib/python3.7/dist-packages (from google-auth>=1.12.0->gspread) (1.15.0)\n",
      "Requirement already satisfied: pyasn1-modules>=0.2.1 in /usr/local/lib/python3.7/dist-packages (from google-auth>=1.12.0->gspread) (0.2.8)\n",
      "Requirement already satisfied: rsa<5,>=3.1.4 in /usr/local/lib/python3.7/dist-packages (from google-auth>=1.12.0->gspread) (4.7.2)\n",
      "Requirement already satisfied: setuptools>=40.3.0 in /usr/local/lib/python3.7/dist-packages (from google-auth>=1.12.0->gspread) (57.2.0)\n",
      "Requirement already satisfied: cachetools<5.0,>=2.0.0 in /usr/local/lib/python3.7/dist-packages (from google-auth>=1.12.0->gspread) (4.2.2)\n",
      "Requirement already satisfied: requests-oauthlib>=0.7.0 in /usr/local/lib/python3.7/dist-packages (from google-auth-oauthlib>=0.4.1->gspread) (1.3.0)\n",
      "Requirement already satisfied: pyasn1<0.5.0,>=0.4.6 in /usr/local/lib/python3.7/dist-packages (from pyasn1-modules>=0.2.1->google-auth>=1.12.0->gspread) (0.4.8)\n",
      "Requirement already satisfied: oauthlib>=3.0.0 in /usr/local/lib/python3.7/dist-packages (from requests-oauthlib>=0.7.0->google-auth-oauthlib>=0.4.1->gspread) (3.1.1)\n",
      "Requirement already satisfied: requests>=2.0.0 in /usr/local/lib/python3.7/dist-packages (from requests-oauthlib>=0.7.0->google-auth-oauthlib>=0.4.1->gspread) (2.23.0)\n",
      "Requirement already satisfied: idna<3,>=2.5 in /usr/local/lib/python3.7/dist-packages (from requests>=2.0.0->requests-oauthlib>=0.7.0->google-auth-oauthlib>=0.4.1->gspread) (2.10)\n",
      "Requirement already satisfied: certifi>=2017.4.17 in /usr/local/lib/python3.7/dist-packages (from requests>=2.0.0->requests-oauthlib>=0.7.0->google-auth-oauthlib>=0.4.1->gspread) (2021.5.30)\n",
      "Requirement already satisfied: chardet<4,>=3.0.2 in /usr/local/lib/python3.7/dist-packages (from requests>=2.0.0->requests-oauthlib>=0.7.0->google-auth-oauthlib>=0.4.1->gspread) (3.0.4)\n",
      "Collecting urllib3!=1.25.0,!=1.25.1,<1.26,>=1.21.1\n",
      "  Downloading urllib3-1.25.11-py2.py3-none-any.whl (127 kB)\n",
      "\u001b[K     |████████████████████████████████| 127 kB 40.4 MB/s \n",
      "\u001b[?25hInstalling collected packages: urllib3, gspread\n",
      "  Attempting uninstall: urllib3\n",
      "    Found existing installation: urllib3 1.26.6\n",
      "    Uninstalling urllib3-1.26.6:\n",
      "      Successfully uninstalled urllib3-1.26.6\n",
      "  Attempting uninstall: gspread\n",
      "    Found existing installation: gspread 3.0.1\n",
      "    Uninstalling gspread-3.0.1:\n",
      "      Successfully uninstalled gspread-3.0.1\n",
      "\u001b[31mERROR: pip's dependency resolver does not currently take into account all the packages that are installed. This behaviour is the source of the following dependency conflicts.\n",
      "datascience 0.10.6 requires folium==0.2.1, but you have folium 0.8.3 which is incompatible.\u001b[0m\n",
      "Successfully installed gspread-4.0.1 urllib3-1.25.11\n"
     ]
    }
   ],
   "source": [
    "!pip3 install --upgrade gspread"
   ]
  },
  {
   "cell_type": "code",
   "execution_count": 4,
   "metadata": {
    "id": "MgkO3GOXL10Q"
   },
   "outputs": [],
   "source": [
    "import pandas as pd\n",
    "import s3fs\n",
    "import gzip"
   ]
  },
  {
   "cell_type": "code",
   "execution_count": 5,
   "metadata": {
    "id": "zxvREPK-OGO4"
   },
   "outputs": [],
   "source": [
    "import gc\n",
    "import time"
   ]
  },
  {
   "cell_type": "code",
   "execution_count": 6,
   "metadata": {
    "id": "uRGna5w05HjR"
   },
   "outputs": [],
   "source": [
    "from google.colab import auth\n",
    "auth.authenticate_user()\n",
    "import gspread\n",
    "from oauth2client.client import GoogleCredentials\n",
    "gs = gspread.authorize(GoogleCredentials.get_application_default())"
   ]
  },
  {
   "cell_type": "code",
   "execution_count": 24,
   "metadata": {
    "id": "rNIbXfeu5i1v"
   },
   "outputs": [],
   "source": [
    "# sh = gs.create('RDP SafeGraph WP NY QA')\n",
    "# worksheet = sh.add_worksheet(title=\"YZ\", rows=\"1000\", cols=\"20\")\n",
    "sh = gs.open(\"RDP SafeGraph WP NY QA\")\n",
    "wks_yz = sh.worksheet('YZ')\n",
    "wks_jt = sh.worksheet('JT')"
   ]
  },
  {
   "cell_type": "code",
   "execution_count": 13,
   "metadata": {
    "id": "ntHXUtYNL3xI"
   },
   "outputs": [],
   "source": [
    "s3 = s3fs.S3FileSystem(\n",
    "      key='xxx',\n",
    "      secret='xxx', \n",
    "      client_kwargs={\n",
    "          'endpoint_url': 'https://s3.amazonaws.com', \n",
    "          'region_name':'us-east-1'\n",
    "      }\n",
    "    )"
   ]
  },
  {
   "cell_type": "code",
   "execution_count": 19,
   "metadata": {
    "id": "zNAE3yvAL6Me"
   },
   "outputs": [],
   "source": [
    "def get_data(path,n=10):\n",
    "  with s3.open(path, mode='rb') as f:\n",
    "    if path[-2:] == 'gz':\n",
    "      f = gzip.GzipFile(fileobj=f)\n",
    "    return pd.read_csv(f, nrows=n)"
   ]
  },
  {
   "cell_type": "code",
   "execution_count": 10,
   "metadata": {
    "colab": {
     "base_uri": "https://localhost:8080/"
    },
    "id": "ClEF5JubL8MQ",
    "outputId": "74f277db-a1a7-40b9-ced4-6e5215cd0e92"
   },
   "outputs": [
    {
     "data": {
      "text/plain": [
       "['recovery-data-partnership/output/dev/wp_NYC/weekly_patterns_NYC_2019Q1.csv.zip',\n",
       " 'recovery-data-partnership/output/dev/wp_NYC/weekly_patterns_NYC_2019Q2.csv.zip',\n",
       " 'recovery-data-partnership/output/dev/wp_NYC/weekly_patterns_NYC_2019Q3.csv.zip',\n",
       " 'recovery-data-partnership/output/dev/wp_NYC/weekly_patterns_NYC_2019Q4.csv.zip',\n",
       " 'recovery-data-partnership/output/dev/wp_NYC/weekly_patterns_NYC_2020Q1.csv.zip',\n",
       " 'recovery-data-partnership/output/dev/wp_NYC/weekly_patterns_NYC_2020Q2.csv.zip',\n",
       " 'recovery-data-partnership/output/dev/wp_NYC/weekly_patterns_NYC_2020Q3.csv.zip',\n",
       " 'recovery-data-partnership/output/dev/wp_NYC/weekly_patterns_NYC_2020Q4.csv.zip',\n",
       " 'recovery-data-partnership/output/dev/wp_NYC/weekly_patterns_NYC_2021Q1.csv.zip',\n",
       " 'recovery-data-partnership/output/dev/wp_NYC/weekly_patterns_NYC_2021Q2.csv.zip',\n",
       " 'recovery-data-partnership/output/dev/wp_NYC/weekly_patterns_NYC_2021Q3.csv.zip']"
      ]
     },
     "execution_count": 10,
     "metadata": {
      "tags": []
     },
     "output_type": "execute_result"
    }
   ],
   "source": [
    "s3.ls('recovery-data-partnership/output/dev/wp_NYC')"
   ]
  },
  {
   "cell_type": "code",
   "execution_count": 11,
   "metadata": {
    "colab": {
     "base_uri": "https://localhost:8080/"
    },
    "id": "lN82OP2UMdiq",
    "outputId": "6784ebeb-a61d-4ca1-93a5-cbd5d7ac208e"
   },
   "outputs": [
    {
     "name": "stdout",
     "output_type": "stream",
     "text": [
      "weekly_patterns_NYC_2019Q1.csv.zip\n",
      "weekly_patterns_NYC_2019Q2.csv.zip\n",
      "weekly_patterns_NYC_2019Q3.csv.zip\n",
      "weekly_patterns_NYC_2019Q4.csv.zip\n",
      "weekly_patterns_NYC_2020Q1.csv.zip\n",
      "weekly_patterns_NYC_2020Q2.csv.zip\n",
      "weekly_patterns_NYC_2020Q3.csv.zip\n",
      "weekly_patterns_NYC_2020Q4.csv.zip\n",
      "weekly_patterns_NYC_2021Q1.csv.zip\n",
      "weekly_patterns_NYC_2021Q2.csv.zip\n",
      "weekly_patterns_NYC_2021Q3.csv.zip\n"
     ]
    }
   ],
   "source": [
    "for f in s3.ls('recovery-data-partnership/output/dev/wp_NYC'):\n",
    "  f = f.split('/')\n",
    "  print(f[-1])"
   ]
  },
  {
   "cell_type": "code",
   "execution_count": 16,
   "metadata": {
    "colab": {
     "base_uri": "https://localhost:8080/"
    },
    "id": "5Cel2IxQL-JH",
    "outputId": "18abb102-6bae-4414-e7e1-71e2b711adcd",
    "scrolled": false
   },
   "outputs": [
    {
     "name": "stdout",
     "output_type": "stream",
     "text": [
      "filename: weekly_patterns_NYC_2019Q1.csv.zip contains 1005519 obs\n",
      "         index  date_range_start\n",
      "0   2019-01-07             83696\n",
      "1   2019-01-14             83917\n",
      "2   2019-01-21             83868\n",
      "3   2019-01-28             83828\n",
      "4   2019-02-04             83271\n",
      "5   2019-02-11             84089\n",
      "6   2019-02-18             83550\n",
      "7   2019-02-25             83742\n",
      "8   2019-03-04             83678\n",
      "9   2019-03-11             83892\n",
      "10  2019-03-18             83897\n",
      "11  2019-03-25             84091\n",
      "this step took 0.9 minutes\n",
      "\n",
      "filename: weekly_patterns_NYC_2019Q2.csv.zip contains 1092752 obs\n",
      "         index  date_range_start\n",
      "0   2019-04-01             84079\n",
      "1   2019-04-08             84423\n",
      "2   2019-04-15             84577\n",
      "3   2019-04-22             83958\n",
      "4   2019-04-29             84129\n",
      "5   2019-05-06             84195\n",
      "6   2019-05-13             84374\n",
      "7   2019-05-20             83760\n",
      "8   2019-05-27             83836\n",
      "9   2019-06-03             83817\n",
      "10  2019-06-10             83827\n",
      "11  2019-06-17             83897\n",
      "12  2019-06-24             83880\n",
      "this step took 1.1 minutes\n",
      "\n",
      "filename: weekly_patterns_NYC_2019Q3.csv.zip contains 1167537 obs\n",
      "         index  date_range_start\n",
      "0   2019-07-01             82328\n",
      "1   2019-07-08             82924\n",
      "2   2019-07-15             83264\n",
      "3   2019-07-22             83239\n",
      "4   2019-07-29             82960\n",
      "5   2019-08-05             82731\n",
      "6   2019-08-12             82927\n",
      "7   2019-08-19             83061\n",
      "8   2019-08-26             83307\n",
      "9   2019-09-02             84063\n",
      "10  2019-09-09             84776\n",
      "11  2019-09-16             84576\n",
      "12  2019-09-23             84072\n",
      "13  2019-09-30             83309\n",
      "this step took 1.2 minutes\n",
      "\n",
      "filename: weekly_patterns_NYC_2019Q4.csv.zip contains 1080862 obs\n",
      "         index  date_range_start\n",
      "0   2019-10-07             83358\n",
      "1   2019-10-14             83394\n",
      "2   2019-10-21             83628\n",
      "3   2019-10-28             83292\n",
      "4   2019-11-04             82812\n",
      "5   2019-11-11             83071\n",
      "6   2019-11-18             83125\n",
      "7   2019-11-25             82839\n",
      "8   2019-12-02             83096\n",
      "9   2019-12-09             83462\n",
      "10  2019-12-16             83501\n",
      "11  2019-12-23             82164\n",
      "12  2019-12-30             83120\n",
      "this step took 1.1 minutes\n",
      "\n",
      "filename: weekly_patterns_NYC_2020Q1.csv.zip contains 1077439 obs\n",
      "         index  date_range_start\n",
      "0   2020-01-06             84309\n",
      "1   2020-01-13             85679\n",
      "2   2020-01-20             85482\n",
      "3   2020-01-27             85696\n",
      "4   2020-02-03             85030\n",
      "5   2020-02-10             84968\n",
      "6   2020-02-17             84460\n",
      "7   2020-02-24             85204\n",
      "8   2020-03-02             84455\n",
      "9   2020-03-09             83803\n",
      "10  2020-03-16             79584\n",
      "11  2020-03-23             75290\n",
      "12  2020-03-30             73479\n",
      "this step took 1.0 minutes\n",
      "\n",
      "filename: weekly_patterns_NYC_2020Q2.csv.zip contains 981940 obs\n",
      "         index  date_range_start\n",
      "0   2020-04-06             72067\n",
      "1   2020-04-13             72348\n",
      "2   2020-04-20             73716\n",
      "3   2020-04-27             74104\n",
      "4   2020-05-04             74120\n",
      "5   2020-05-11             75132\n",
      "6   2020-05-18             75840\n",
      "7   2020-05-25             75841\n",
      "8   2020-06-01             76408\n",
      "9   2020-06-08             77406\n",
      "10  2020-06-15             77978\n",
      "11  2020-06-22             78820\n",
      "12  2020-06-29             78160\n",
      "this step took 0.7 minutes\n",
      "\n",
      "filename: weekly_patterns_NYC_2020Q3.csv.zip contains 1040769 obs\n",
      "         index  date_range_start\n",
      "0   2020-07-06             78268\n",
      "1   2020-07-13             79070\n",
      "2   2020-07-20             79617\n",
      "3   2020-07-27             79847\n",
      "4   2020-08-03             80082\n",
      "5   2020-08-10             79685\n",
      "6   2020-08-17             80565\n",
      "7   2020-08-24             79763\n",
      "8   2020-08-31             80730\n",
      "9   2020-09-07             80787\n",
      "10  2020-09-14             80721\n",
      "11  2020-09-21             81110\n",
      "12  2020-09-28             80524\n",
      "this step took 0.8 minutes\n",
      "\n",
      "filename: weekly_patterns_NYC_2020Q4.csv.zip contains 1037510 obs\n",
      "         index  date_range_start\n",
      "0   2020-10-05             80814\n",
      "1   2020-10-12             80804\n",
      "2   2020-10-19             81164\n",
      "3   2020-10-26             80739\n",
      "4   2020-11-02             80472\n",
      "5   2020-11-09             80217\n",
      "6   2020-11-16             80027\n",
      "7   2020-11-23             78644\n",
      "8   2020-11-30             79541\n",
      "9   2020-12-07             79906\n",
      "10  2020-12-14             78790\n",
      "11  2020-12-21             78111\n",
      "12  2020-12-28             78281\n",
      "this step took 0.8 minutes\n",
      "\n",
      "filename: weekly_patterns_NYC_2021Q1.csv.zip contains 1029353 obs\n",
      "         index  date_range_start\n",
      "0   2021-01-04             79606\n",
      "1   2021-01-11             79254\n",
      "2   2021-01-18             78938\n",
      "3   2021-01-25             79121\n",
      "4   2021-02-01             77676\n",
      "5   2021-02-08             78916\n",
      "6   2021-02-15             78430\n",
      "7   2021-02-22             79291\n",
      "8   2021-03-01             79547\n",
      "9   2021-03-08             79753\n",
      "10  2021-03-15             79618\n",
      "11  2021-03-22             79445\n",
      "12  2021-03-29             79758\n",
      "this step took 0.8 minutes\n",
      "\n",
      "filename: weekly_patterns_NYC_2021Q2.csv.zip contains 1041940 obs\n",
      "         index  date_range_start\n",
      "0   2021-04-05             80451\n",
      "1   2021-04-12             79761\n",
      "2   2021-04-19             79787\n",
      "3   2021-04-26             79995\n",
      "4   2021-05-03             79934\n",
      "5   2021-05-10             80308\n",
      "6   2021-05-17             80267\n",
      "7   2021-05-24             79984\n",
      "8   2021-05-31             80405\n",
      "9   2021-06-07             80500\n",
      "10  2021-06-14             80419\n",
      "11  2021-06-21             80432\n",
      "12  2021-06-28             79697\n",
      "this step took 0.9 minutes\n",
      "\n",
      "filename: weekly_patterns_NYC_2021Q3.csv.zip contains 320791 obs\n",
      "        index  date_range_start\n",
      "0  2021-07-05             79878\n",
      "1  2021-07-12             80287\n",
      "2  2021-07-19             80205\n",
      "3  2021-07-26             80421\n",
      "this step took 0.3 minutes\n",
      "\n"
     ]
    }
   ],
   "source": [
    "yz_counts = {}\n",
    "for path in s3.ls('recovery-data-partnership/output/dev/wp_NYC'):\n",
    "  start_time = time.time()\n",
    "  with s3.open(path, mode='rb') as f:\n",
    "    df = pd.read_csv(f,compression='zip')\n",
    "  file_name = path.split('/')[-1]\n",
    "  print(f\"filename: {file_name} contains {len(df)} obs\")\n",
    "  date_summary = df['date_range_start'].str[:10].value_counts(dropna=False).sort_index().reset_index()\n",
    "  print(date_summary)\n",
    "  del df\n",
    "  gc.collect()\n",
    "  duration = time.time() - start_time\n",
    "  yz_counts[file_name] = date_summary\n",
    "  print(f\"this step took {round(duration/60,1)} minutes\")\n",
    "  print()"
   ]
  },
  {
   "cell_type": "code",
   "execution_count": 17,
   "metadata": {
    "colab": {
     "base_uri": "https://localhost:8080/"
    },
    "id": "tkgm2PWjND1e",
    "outputId": "4cd9c2f1-78a4-4045-e508-e40bc5bd7dcb"
   },
   "outputs": [
    {
     "data": {
      "text/plain": [
       "(134, 2)"
      ]
     },
     "execution_count": 17,
     "metadata": {
      "tags": []
     },
     "output_type": "execute_result"
    }
   ],
   "source": [
    "yz_df = pd.DataFrame()\n",
    "for df in yz_counts:\n",
    "  yz_df = yz_df.append(yz_counts[df])\n",
    "yz_df.shape"
   ]
  },
  {
   "cell_type": "code",
   "execution_count": 3,
   "metadata": {
    "colab": {
     "base_uri": "https://localhost:8080/"
    },
    "id": "W_NdZIPL6RiQ",
    "outputId": "85fce5e9-6f8b-4f65-fd10-a7cba9f0f7ac"
   },
   "outputs": [],
   "source": [
    "# worksheet.update([yz_df.columns.values.tolist()] + yz_df.values.tolist())"
   ]
  },
  {
   "cell_type": "code",
   "execution_count": 17,
   "metadata": {
    "colab": {
     "base_uri": "https://localhost:8080/"
    },
    "id": "6AmPA9bJNVlc",
    "outputId": "1bea3ac1-8bdd-4bfa-be0a-c32d7bddc041"
   },
   "outputs": [
    {
     "data": {
      "text/plain": [
       "['recovery-data-partnership/output/release_2021_07/NY_visits_by_month/from_weekly_patterns/',\n",
       " 'recovery-data-partnership/output/release_2021_07/NY_visits_by_month/from_weekly_patterns/NY_weekly_2019_01.csv.gz',\n",
       " 'recovery-data-partnership/output/release_2021_07/NY_visits_by_month/from_weekly_patterns/NY_weekly_2019_02.csv.gz',\n",
       " 'recovery-data-partnership/output/release_2021_07/NY_visits_by_month/from_weekly_patterns/NY_weekly_2019_03.csv.gz',\n",
       " 'recovery-data-partnership/output/release_2021_07/NY_visits_by_month/from_weekly_patterns/NY_weekly_2019_04.csv.gz',\n",
       " 'recovery-data-partnership/output/release_2021_07/NY_visits_by_month/from_weekly_patterns/NY_weekly_2019_05.csv.gz',\n",
       " 'recovery-data-partnership/output/release_2021_07/NY_visits_by_month/from_weekly_patterns/NY_weekly_2019_06.csv.gz',\n",
       " 'recovery-data-partnership/output/release_2021_07/NY_visits_by_month/from_weekly_patterns/NY_weekly_2019_07.csv.gz',\n",
       " 'recovery-data-partnership/output/release_2021_07/NY_visits_by_month/from_weekly_patterns/NY_weekly_2019_08.csv.gz',\n",
       " 'recovery-data-partnership/output/release_2021_07/NY_visits_by_month/from_weekly_patterns/NY_weekly_2019_09.csv.gz',\n",
       " 'recovery-data-partnership/output/release_2021_07/NY_visits_by_month/from_weekly_patterns/NY_weekly_2019_10.csv.gz',\n",
       " 'recovery-data-partnership/output/release_2021_07/NY_visits_by_month/from_weekly_patterns/NY_weekly_2019_11.csv.gz',\n",
       " 'recovery-data-partnership/output/release_2021_07/NY_visits_by_month/from_weekly_patterns/NY_weekly_2019_12.csv.gz',\n",
       " 'recovery-data-partnership/output/release_2021_07/NY_visits_by_month/from_weekly_patterns/NY_weekly_2020_01.csv.gz',\n",
       " 'recovery-data-partnership/output/release_2021_07/NY_visits_by_month/from_weekly_patterns/NY_weekly_2020_02.csv.gz',\n",
       " 'recovery-data-partnership/output/release_2021_07/NY_visits_by_month/from_weekly_patterns/NY_weekly_2020_03.csv.gz',\n",
       " 'recovery-data-partnership/output/release_2021_07/NY_visits_by_month/from_weekly_patterns/NY_weekly_2020_04.csv.gz',\n",
       " 'recovery-data-partnership/output/release_2021_07/NY_visits_by_month/from_weekly_patterns/NY_weekly_2020_05.csv.gz',\n",
       " 'recovery-data-partnership/output/release_2021_07/NY_visits_by_month/from_weekly_patterns/NY_weekly_2020_06.csv.gz',\n",
       " 'recovery-data-partnership/output/release_2021_07/NY_visits_by_month/from_weekly_patterns/NY_weekly_2020_07.csv.gz',\n",
       " 'recovery-data-partnership/output/release_2021_07/NY_visits_by_month/from_weekly_patterns/NY_weekly_2020_08.csv.gz',\n",
       " 'recovery-data-partnership/output/release_2021_07/NY_visits_by_month/from_weekly_patterns/NY_weekly_2020_09.csv.gz',\n",
       " 'recovery-data-partnership/output/release_2021_07/NY_visits_by_month/from_weekly_patterns/NY_weekly_2020_10.csv.gz',\n",
       " 'recovery-data-partnership/output/release_2021_07/NY_visits_by_month/from_weekly_patterns/NY_weekly_2020_11.csv.gz',\n",
       " 'recovery-data-partnership/output/release_2021_07/NY_visits_by_month/from_weekly_patterns/NY_weekly_2020_12.csv.gz',\n",
       " 'recovery-data-partnership/output/release_2021_07/NY_visits_by_month/from_weekly_patterns/NY_weekly_2021_01.csv.gz',\n",
       " 'recovery-data-partnership/output/release_2021_07/NY_visits_by_month/from_weekly_patterns/NY_weekly_2021_02.csv.gz',\n",
       " 'recovery-data-partnership/output/release_2021_07/NY_visits_by_month/from_weekly_patterns/NY_weekly_2021_03.csv.gz',\n",
       " 'recovery-data-partnership/output/release_2021_07/NY_visits_by_month/from_weekly_patterns/NY_weekly_2021_04.csv.gz',\n",
       " 'recovery-data-partnership/output/release_2021_07/NY_visits_by_month/from_weekly_patterns/NY_weekly_2021_05.csv.gz',\n",
       " 'recovery-data-partnership/output/release_2021_07/NY_visits_by_month/from_weekly_patterns/NY_weekly_2021_06.csv.gz',\n",
       " 'recovery-data-partnership/output/release_2021_07/NY_visits_by_month/from_weekly_patterns/NY_weekly_2021_07.csv.gz']"
      ]
     },
     "execution_count": 17,
     "metadata": {
      "tags": []
     },
     "output_type": "execute_result"
    }
   ],
   "source": [
    "s3.ls('recovery-data-partnership/output/release_2021_07/NY_visits_by_month/from_weekly_patterns')"
   ]
  },
  {
   "cell_type": "code",
   "execution_count": 20,
   "metadata": {
    "colab": {
     "base_uri": "https://localhost:8080/"
    },
    "id": "GAV7iptI_ZXr",
    "outputId": "8e807b1a-94eb-4257-c338-a9773bc7c652"
   },
   "outputs": [
    {
     "name": "stdout",
     "output_type": "stream",
     "text": [
      "filename: NY_weekly_2019_01.csv.gz contains 880392 obs\n",
      "nyc contains 335309 obs\n",
      "this step took 0.8 minutes\n",
      "\n",
      "filename: NY_weekly_2019_02.csv.gz contains 879566 obs\n",
      "nyc contains 334652 obs\n",
      "this step took 0.8 minutes\n",
      "\n",
      "filename: NY_weekly_2019_03.csv.gz contains 885096 obs\n",
      "nyc contains 335558 obs\n",
      "this step took 0.8 minutes\n",
      "\n",
      "filename: NY_weekly_2019_04.csv.gz contains 1118607 obs\n",
      "nyc contains 421166 obs\n",
      "this step took 1.0 minutes\n",
      "\n",
      "filename: NY_weekly_2019_05.csv.gz contains 900526 obs\n",
      "nyc contains 336165 obs\n",
      "this step took 0.8 minutes\n",
      "\n",
      "filename: NY_weekly_2019_06.csv.gz contains 898018 obs\n",
      "nyc contains 335421 obs\n",
      "this step took 0.9 minutes\n",
      "\n",
      "filename: NY_weekly_2019_07.csv.gz contains 1110472 obs\n",
      "nyc contains 414715 obs\n",
      "this step took 1.0 minutes\n",
      "\n",
      "filename: NY_weekly_2019_08.csv.gz contains 889875 obs\n",
      "nyc contains 332026 obs\n",
      "this step took 0.8 minutes\n",
      "\n",
      "filename: NY_weekly_2019_09.csv.gz contains 1116981 obs\n",
      "nyc contains 420796 obs\n",
      "this step took 1.0 minutes\n",
      "\n",
      "filename: NY_weekly_2019_10.csv.gz contains 884786 obs\n",
      "nyc contains 333672 obs\n",
      "this step took 0.8 minutes\n",
      "\n",
      "filename: NY_weekly_2019_11.csv.gz contains 879545 obs\n",
      "nyc contains 331847 obs\n",
      "this step took 0.8 minutes\n",
      "\n"
     ]
    },
    {
     "name": "stderr",
     "output_type": "stream",
     "text": [
      "/usr/local/lib/python3.7/dist-packages/IPython/core/interactiveshell.py:2822: DtypeWarning: Columns (16) have mixed types.Specify dtype option on import or set low_memory=False.\n",
      "  if self.run_code(code, result):\n"
     ]
    },
    {
     "name": "stdout",
     "output_type": "stream",
     "text": [
      "filename: NY_weekly_2019_12.csv.gz contains 1101373 obs\n",
      "nyc contains 415343 obs\n",
      "this step took 1.0 minutes\n",
      "\n",
      "filename: NY_weekly_2020_01.csv.gz contains 904964 obs\n",
      "nyc contains 341166 obs\n",
      "this step took 0.9 minutes\n",
      "\n",
      "filename: NY_weekly_2020_02.csv.gz contains 896376 obs\n",
      "nyc contains 339662 obs\n",
      "this step took 0.8 minutes\n",
      "\n",
      "filename: NY_weekly_2020_03.csv.gz contains 1058289 obs\n",
      "nyc contains 396611 obs\n",
      "this step took 0.8 minutes\n",
      "\n",
      "filename: NY_weekly_2020_04.csv.gz contains 793453 obs\n",
      "nyc contains 292235 obs\n",
      "this step took 0.5 minutes\n",
      "\n",
      "filename: NY_weekly_2020_05.csv.gz contains 825379 obs\n",
      "nyc contains 300933 obs\n",
      "this step took 0.6 minutes\n",
      "\n",
      "filename: NY_weekly_2020_06.csv.gz contains 1072756 obs\n",
      "nyc contains 388772 obs\n",
      "this step took 0.8 minutes\n",
      "\n",
      "filename: NY_weekly_2020_07.csv.gz contains 869540 obs\n",
      "nyc contains 316802 obs\n",
      "this step took 0.7 minutes\n",
      "\n",
      "filename: NY_weekly_2020_08.csv.gz contains 1096656 obs\n",
      "nyc contains 400825 obs\n",
      "this step took 0.9 minutes\n",
      "\n",
      "filename: NY_weekly_2020_09.csv.gz contains 878109 obs\n",
      "nyc contains 323142 obs\n",
      "this step took 0.7 minutes\n",
      "\n",
      "filename: NY_weekly_2020_10.csv.gz contains 876255 obs\n",
      "nyc contains 323521 obs\n",
      "this step took 0.7 minutes\n",
      "\n",
      "filename: NY_weekly_2020_11.csv.gz contains 1074245 obs\n",
      "nyc contains 398901 obs\n",
      "this step took 0.9 minutes\n",
      "\n",
      "filename: NY_weekly_2020_12.csv.gz contains 847443 obs\n",
      "nyc contains 315088 obs\n",
      "this step took 0.7 minutes\n",
      "\n",
      "filename: NY_weekly_2021_01.csv.gz contains 849711 obs\n",
      "nyc contains 316919 obs\n",
      "this step took 0.7 minutes\n",
      "\n",
      "filename: NY_weekly_2021_02.csv.gz contains 845289 obs\n",
      "nyc contains 314313 obs\n",
      "this step took 0.6 minutes\n",
      "\n",
      "filename: NY_weekly_2021_03.csv.gz contains 1075154 obs\n",
      "nyc contains 398121 obs\n",
      "this step took 0.9 minutes\n",
      "\n",
      "filename: NY_weekly_2021_04.csv.gz contains 869057 obs\n",
      "nyc contains 319994 obs\n",
      "this step took 0.7 minutes\n",
      "\n",
      "filename: NY_weekly_2021_05.csv.gz contains 1095481 obs\n",
      "nyc contains 400898 obs\n",
      "this step took 0.9 minutes\n",
      "\n",
      "filename: NY_weekly_2021_06.csv.gz contains 877100 obs\n",
      "nyc contains 321048 obs\n",
      "this step took 0.7 minutes\n",
      "\n",
      "filename: NY_weekly_2021_07.csv.gz contains 218047 obs\n",
      "nyc contains 79878 obs\n",
      "this step took 0.2 minutes\n",
      "\n"
     ]
    }
   ],
   "source": [
    "jt_counts = {}\n",
    "for path in s3.ls('recovery-data-partnership/output/release_2021_07/NY_visits_by_month/from_weekly_patterns')[1:]:\n",
    "  start_time = time.time()\n",
    "  df = get_data(path,n=10000000)\n",
    "  df_nyc = df[df['poi_cbg'].astype(str).str[:5].isin(['36085','36081','36061','36047','36005'])]\n",
    "  file_name = path.split('/')[-1]\n",
    "  print(f\"filename: {file_name} contains {len(df)} obs\")\n",
    "  print(f\"nyc contains {len(df_nyc)} obs\")\n",
    "  date_summary = df['date_range_start'].str[:10].value_counts(dropna=False).sort_index().reset_index()\n",
    "  date_nyc_summary = df_nyc['date_range_start'].str[:10].value_counts(dropna=False).sort_index().reset_index()\n",
    "  full_summary = date_summary.merge(date_nyc_summary,on='index')\n",
    "  full_summary.columns = ['date_range_start','ny','nyc']\n",
    "  del df, df_nyc\n",
    "  gc.collect()\n",
    "  duration = time.time() - start_time\n",
    "  jt_counts[file_name] = full_summary\n",
    "  print(f\"this step took {round(duration/60,1)} minutes\")\n",
    "  print()"
   ]
  },
  {
   "cell_type": "code",
   "execution_count": 22,
   "metadata": {
    "colab": {
     "base_uri": "https://localhost:8080/",
     "height": 80
    },
    "id": "cw7m32pZBXeN",
    "outputId": "8247e6e5-960a-4015-e770-52ceb2a3ccfe"
   },
   "outputs": [
    {
     "data": {
      "text/html": [
       "<div>\n",
       "<style scoped>\n",
       "    .dataframe tbody tr th:only-of-type {\n",
       "        vertical-align: middle;\n",
       "    }\n",
       "\n",
       "    .dataframe tbody tr th {\n",
       "        vertical-align: top;\n",
       "    }\n",
       "\n",
       "    .dataframe thead th {\n",
       "        text-align: right;\n",
       "    }\n",
       "</style>\n",
       "<table border=\"1\" class=\"dataframe\">\n",
       "  <thead>\n",
       "    <tr style=\"text-align: right;\">\n",
       "      <th></th>\n",
       "      <th>date_range_start</th>\n",
       "      <th>ny</th>\n",
       "      <th>nyc</th>\n",
       "    </tr>\n",
       "  </thead>\n",
       "  <tbody>\n",
       "    <tr>\n",
       "      <th>0</th>\n",
       "      <td>2021-07-05</td>\n",
       "      <td>218047</td>\n",
       "      <td>79878</td>\n",
       "    </tr>\n",
       "  </tbody>\n",
       "</table>\n",
       "</div>"
      ],
      "text/plain": [
       "  date_range_start      ny    nyc\n",
       "0       2021-07-05  218047  79878"
      ]
     },
     "execution_count": 22,
     "metadata": {
      "tags": []
     },
     "output_type": "execute_result"
    }
   ],
   "source": [
    "jt_counts['NY_weekly_2021_07.csv.gz']"
   ]
  },
  {
   "cell_type": "code",
   "execution_count": 25,
   "metadata": {
    "id": "0U0MxV3GHQrM"
   },
   "outputs": [],
   "source": [
    "wsh_jt2 = sh.add_worksheet(title=\"JT2\", rows=\"1000\", cols=\"20\")"
   ]
  },
  {
   "cell_type": "code",
   "execution_count": 26,
   "metadata": {
    "colab": {
     "base_uri": "https://localhost:8080/"
    },
    "id": "eqDURcxvPcCv",
    "outputId": "7c957859-2eaa-4348-e8dd-7bc3a1cea8b1"
   },
   "outputs": [
    {
     "data": {
      "text/plain": [
       "(131, 3)"
      ]
     },
     "execution_count": 26,
     "metadata": {
      "tags": []
     },
     "output_type": "execute_result"
    }
   ],
   "source": [
    "jt_df = pd.DataFrame()\n",
    "for df in jt_counts:\n",
    "  jt_df = jt_df.append(jt_counts[df])\n",
    "jt_df.shape"
   ]
  },
  {
   "cell_type": "code",
   "execution_count": 2,
   "metadata": {
    "colab": {
     "base_uri": "https://localhost:8080/"
    },
    "id": "4uj1Sz61PkzH",
    "outputId": "3b16dc57-5c77-46f3-a1d1-dac8d15fa2e7"
   },
   "outputs": [],
   "source": [
    "# wsh_jt2.update([jt_df.columns.values.tolist()] + jt_df.values.tolist())"
   ]
  },
  {
   "cell_type": "code",
   "execution_count": null,
   "metadata": {
    "id": "1OElDM1HPp50"
   },
   "outputs": [],
   "source": []
  }
 ],
 "metadata": {
  "colab": {
   "name": "Weekly_Patterns_QA.ipynb",
   "provenance": []
  },
  "kernelspec": {
   "display_name": "Python 3",
   "language": "python",
   "name": "python3"
  },
  "language_info": {
   "codemirror_mode": {
    "name": "ipython",
    "version": 3
   },
   "file_extension": ".py",
   "mimetype": "text/x-python",
   "name": "python",
   "nbconvert_exporter": "python",
   "pygments_lexer": "ipython3",
   "version": "3.6.8"
  }
 },
 "nbformat": 4,
 "nbformat_minor": 1
}
